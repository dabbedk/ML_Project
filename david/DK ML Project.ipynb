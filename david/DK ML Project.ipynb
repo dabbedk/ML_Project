{
 "cells": [
  {
   "cell_type": "code",
   "execution_count": 1,
   "metadata": {},
   "outputs": [],
   "source": [
    "import pandas as pd\n",
    "import numpy as np\n",
    "import matplotlib.pyplot as plt"
   ]
  },
  {
   "cell_type": "code",
   "execution_count": null,
   "metadata": {},
   "outputs": [],
   "source": [
    "housing = pd.read_csv('data/Ames_Housing_Price_Data.csv')"
   ]
  },
  {
   "cell_type": "markdown",
   "metadata": {},
   "source": [
    "### My Columns"
   ]
  },
  {
   "cell_type": "code",
   "execution_count": null,
   "metadata": {},
   "outputs": [],
   "source": [
    "housing = housing[['SalePrice',\n",
    "'BsmtFullBath',\n",
    "'BsmtHalfBath',\n",
    "'FullBath',\n",
    "'HalfBath',\n",
    "'BedroomAbvGr',\n",
    "'KitchenAbvGr',\n",
    "'KitchenQual',\n",
    "'TotRmsAbvGrd',\n",
    "'Functional',\n",
    "'Fireplaces',\n",
    "'FireplaceQu',\n",
    "'GarageType',\n",
    "'GarageFinish',\n",
    "'GarageCars',\n",
    "'GarageArea',\n",
    "'GarageQual',\n",
    "'GarageCond',\n",
    "'PavedDrive',\n",
    "'WoodDeckSF',\n",
    "'OpenPorchSF',\n",
    "'EnclosedPorch',\n",
    "'3SsnPorch',\n",
    "'ScreenPorch']]"
   ]
  },
  {
   "cell_type": "code",
   "execution_count": null,
   "metadata": {
    "scrolled": true
   },
   "outputs": [],
   "source": [
    "housing.sample(10)"
   ]
  },
  {
   "cell_type": "markdown",
   "metadata": {},
   "source": [
    "### Data Cleanup: fillna"
   ]
  },
  {
   "cell_type": "code",
   "execution_count": 4,
   "metadata": {},
   "outputs": [],
   "source": [
    "# Filling nominal NA's with 0's (no basement or garage)\n",
    "housing['GarageQual'].fillna(0, inplace = True)\n",
    "housing['GarageCond'].fillna(0, inplace = True)\n",
    "housing['GarageCars'].fillna(0, inplace = True)\n",
    "housing['GarageArea'].fillna(0, inplace = True)\n",
    "\n",
    "# Filling categorical NA's with 'None' (no garage)\n",
    "housing['GarageType'].fillna('None', inplace = True)\n",
    "housing['GarageFinish'].fillna('None', inplace = True)"
   ]
  },
  {
   "cell_type": "code",
   "execution_count": 7,
   "metadata": {},
   "outputs": [
    {
     "data": {
      "text/plain": [
       "SalePrice        False\n",
       "FullBath         False\n",
       "BedroomAbvGr     False\n",
       "KitchenAbvGr     False\n",
       "KitchenQual      False\n",
       "TotRmsAbvGrd     False\n",
       "Functional       False\n",
       "Fireplaces       False\n",
       "FireplaceQu       True\n",
       "GarageType       False\n",
       "GarageFinish     False\n",
       "GarageCars       False\n",
       "GarageArea       False\n",
       "GarageQual       False\n",
       "GarageCond       False\n",
       "PavedDrive       False\n",
       "WoodDeckSF       False\n",
       "OpenPorchSF      False\n",
       "EnclosedPorch    False\n",
       "3SsnPorch        False\n",
       "ScreenPorch      False\n",
       "TotalBath        False\n",
       "dtype: bool"
      ]
     },
     "execution_count": 7,
     "metadata": {},
     "output_type": "execute_result"
    }
   ],
   "source": [
    "housing.isnull().any()"
   ]
  },
  {
   "cell_type": "markdown",
   "metadata": {},
   "source": [
    "### Data Cleanup: Combine Bathrooms to create 'TotalBath' feature"
   ]
  },
  {
   "cell_type": "code",
   "execution_count": 6,
   "metadata": {},
   "outputs": [],
   "source": [
    "# Filling Basement bathroom NA's with 0\n",
    "housing['BsmtFullBath'].fillna(0, inplace = True)\n",
    "housing['BsmtHalfBath'].fillna(0, inplace = True)\n",
    "\n",
    "# Combining bathrooms to single variable and dropping the individual counts\n",
    "housing['TotalBath'] = housing['BsmtFullBath'] + (housing['BsmtHalfBath']*5) + housing['FullBath'] + (housing['HalfBath']*.5)\n",
    "housing.drop(['BsmtFullBath', 'BsmtHalfBath', 'HalfBath'], axis = 1, inplace = True)"
   ]
  },
  {
   "cell_type": "markdown",
   "metadata": {},
   "source": [
    "- I kept the 'FullBath' feature because it had a 0.53 correlation with 'SalePrice'"
   ]
  },
  {
   "cell_type": "markdown",
   "metadata": {},
   "source": [
    "### Data Cleanup: Ordinal and Categorical Features"
   ]
  },
  {
   "cell_type": "code",
   "execution_count": 8,
   "metadata": {},
   "outputs": [],
   "source": [
    "#Ordinal\n",
    "housing.KitchenQual.replace({'Po':1, 'Fa':2, 'TA':3, 'Gd':4, 'Ex':5}, inplace=True)\n",
    "housing.GarageQual.replace({'Po':1, 'Fa':2, 'TA':3, 'Gd':4, 'Ex':5}, inplace=True)\n",
    "housing.GarageCond.replace({'Po':1, 'Fa':2, 'TA':3, 'Gd':4, 'Ex':5}, inplace=True)\n",
    "housing.PavedDrive.replace({'N':1, 'P':2, 'Y':3}, inplace=True)\n",
    "\n",
    "#Categorical\n",
    "dummies=['Functional','GarageType','GarageFinish']\n",
    "\n",
    "for d in dummies:\n",
    "    temp = pd.get_dummies(housing[d], prefix=d, prefix_sep='__')\n",
    "    temp = temp.drop(d+'__'+str(housing[d].mode()[0]), axis=1)\n",
    "    #drop the most common one (mode), making it the base case\n",
    "    housing = pd.concat([housing.drop(d, axis=1),temp], axis=1)\n",
    "    #merge back with main df"
   ]
  },
  {
   "cell_type": "markdown",
   "metadata": {},
   "source": [
    "### Multicollinearity in Garages"
   ]
  },
  {
   "cell_type": "markdown",
   "metadata": {},
   "source": [
    "High correlation in:\n",
    "- GarageCars | GarageArea\n",
    "- GarageQual | GarageCond"
   ]
  },
  {
   "cell_type": "code",
   "execution_count": 9,
   "metadata": {
    "scrolled": true
   },
   "outputs": [
    {
     "name": "stdout",
     "output_type": "stream",
     "text": [
      "GarageCars | GarageArea 0.8898279487178717\n",
      "GarageCars | GarageQual 0.553947524952688\n",
      "GarageCars | GarageCond 0.5424153436558793\n",
      "GarageArea | GarageQual 0.545929045147731\n",
      "GarageArea | GarageCond 0.5308307101908939\n",
      "GarageQual | GarageCond 0.9409098825951635\n"
     ]
    }
   ],
   "source": [
    "print(f'GarageCars | GarageArea', housing['GarageCars'].corr(housing['GarageArea']))\n",
    "print(f'GarageCars | GarageQual', housing['GarageCars'].corr(housing['GarageQual']))\n",
    "print(f'GarageCars | GarageCond', housing['GarageCars'].corr(housing['GarageCond']))\n",
    "print(f'GarageArea | GarageQual', housing['GarageArea'].corr(housing['GarageQual']))\n",
    "print(f'GarageArea | GarageCond', housing['GarageArea'].corr(housing['GarageCond']))\n",
    "print(f'GarageQual | GarageCond', housing['GarageQual'].corr(housing['GarageCond']))"
   ]
  },
  {
   "cell_type": "markdown",
   "metadata": {},
   "source": [
    "- Dropping GarageArea/GarageCond because they are less correlated than their counterpats GarageCars/GarageQual"
   ]
  },
  {
   "cell_type": "code",
   "execution_count": 10,
   "metadata": {},
   "outputs": [],
   "source": [
    "housing.drop(['GarageArea', 'GarageCond'], axis = 1, inplace = True)"
   ]
  },
  {
   "cell_type": "markdown",
   "metadata": {},
   "source": [
    "### Removing Features"
   ]
  },
  {
   "cell_type": "markdown",
   "metadata": {},
   "source": [
    "- 3 features were dropped.\n",
    "    - 'BsmtFullBath' - .29 correlation, seems unnecessary\n",
    "    - 'BsmtHalfBath' - -.03 correlation is too low\n",
    "    - 'FireplaceQu' - over 1200 NA's - probably not contributing much"
   ]
  },
  {
   "cell_type": "code",
   "execution_count": 12,
   "metadata": {},
   "outputs": [],
   "source": [
    "housing.drop(['FireplaceQu'], axis = 1, inplace = True)"
   ]
  },
  {
   "cell_type": "markdown",
   "metadata": {},
   "source": [
    "### Checking Correlations to 'SalePrice'"
   ]
  },
  {
   "cell_type": "code",
   "execution_count": null,
   "metadata": {},
   "outputs": [],
   "source": [
    "num_vars = housing.select_dtypes(np.number)"
   ]
  },
  {
   "cell_type": "code",
   "execution_count": null,
   "metadata": {},
   "outputs": [],
   "source": [
    "correlation = num_vars.corr()\n",
    "print(correlation['SalePrice'].sort_values(ascending = False), '\\n')"
   ]
  },
  {
   "cell_type": "code",
   "execution_count": null,
   "metadata": {},
   "outputs": [],
   "source": [
    "housing.isnull().any()"
   ]
  }
 ],
 "metadata": {
  "kernelspec": {
   "display_name": "Python 3",
   "language": "python",
   "name": "python3"
  },
  "language_info": {
   "codemirror_mode": {
    "name": "ipython",
    "version": 3
   },
   "file_extension": ".py",
   "mimetype": "text/x-python",
   "name": "python",
   "nbconvert_exporter": "python",
   "pygments_lexer": "ipython3",
   "version": "3.8.5"
  }
 },
 "nbformat": 4,
 "nbformat_minor": 4
}
