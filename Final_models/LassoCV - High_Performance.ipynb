{
 "cells": [
  {
   "cell_type": "markdown",
   "metadata": {},
   "source": [
    "# Lasso Notebook - High performance\n",
    "- RMSE: 0.0929\n",
    "- Train score:  0.94\n",
    "- Test score:  0.94 \n",
    "\n",
    "    - *random_state=8 for train_test_split"
   ]
  },
  {
   "cell_type": "code",
   "execution_count": 1,
   "metadata": {},
   "outputs": [
    {
     "data": {
      "text/plain": [
       "(2578, 167)"
      ]
     },
     "execution_count": 1,
     "metadata": {},
     "output_type": "execute_result"
    }
   ],
   "source": [
    "import numpy as np\n",
    "import pandas as pd\n",
    "import seaborn as sns\n",
    "%matplotlib inline \n",
    "import matplotlib.pyplot as plt\n",
    "pd.options.display.max_columns = 50\n",
    "import warnings\n",
    "warnings.filterwarnings('ignore')\n",
    "\n",
    "\n",
    "housing = pd.read_csv('/Users/Eugene/OneDrive/ML/ML_Project/Group/housing.csv', index_col=0)\n",
    "housing.shape"
   ]
  },
  {
   "cell_type": "code",
   "execution_count": 39,
   "metadata": {},
   "outputs": [],
   "source": [
    "housetarg = pd.Series(housing.SalePrice_Log, name='target')\n",
    "housefeature = housing.drop('SalePrice_Log',axis=1)"
   ]
  },
  {
   "cell_type": "code",
   "execution_count": 41,
   "metadata": {},
   "outputs": [
    {
     "data": {
      "text/plain": [
       "((1933, 166), (645, 166))"
      ]
     },
     "execution_count": 41,
     "metadata": {},
     "output_type": "execute_result"
    }
   ],
   "source": [
    "from sklearn.model_selection import train_test_split\n",
    "Xtrain, Xtest, ytrain, ytest = train_test_split(housefeature, housetarg, random_state=8)\n",
    "Xtrain.shape, Xtest.shape"
   ]
  },
  {
   "cell_type": "code",
   "execution_count": 43,
   "metadata": {},
   "outputs": [],
   "source": [
    "import numpy as np\n",
    "alphas = np.linspace(0.000001,.0001,100)"
   ]
  },
  {
   "cell_type": "markdown",
   "metadata": {},
   "source": [
    "### Lasso Gridsearch CV"
   ]
  },
  {
   "cell_type": "code",
   "execution_count": 44,
   "metadata": {},
   "outputs": [],
   "source": [
    "from sklearn.model_selection import GridSearchCV, RandomizedSearchCV\n",
    "#randomized is faster\n",
    "from sklearn.linear_model import Lasso"
   ]
  },
  {
   "cell_type": "code",
   "execution_count": 45,
   "metadata": {},
   "outputs": [],
   "source": [
    "lasso = Lasso(normalize=True)"
   ]
  },
  {
   "cell_type": "code",
   "execution_count": 46,
   "metadata": {
    "scrolled": true
   },
   "outputs": [
    {
     "data": {
      "text/plain": [
       "GridSearchCV(cv=10, estimator=Lasso(normalize=True),\n",
       "             param_grid={'alpha': array([1.0e-06, 2.0e-06, 3.0e-06, 4.0e-06, 5.0e-06, 6.0e-06, 7.0e-06,\n",
       "       8.0e-06, 9.0e-06, 1.0e-05, 1.1e-05, 1.2e-05, 1.3e-05, 1.4e-05,\n",
       "       1.5e-05, 1.6e-05, 1.7e-05, 1.8e-05, 1.9e-05, 2.0e-05, 2.1e-05,\n",
       "       2.2e-05, 2.3e-05, 2.4e-05, 2.5e-05, 2.6e-05, 2.7e-05, 2.8e-05,\n",
       "       2.9e-05, 3.0e-05, 3.1e-05, 3.2e-05, 3.3e-05, 3.4e-05,...\n",
       "       5.7e-05, 5.8e-05, 5.9e-05, 6.0e-05, 6.1e-05, 6.2e-05, 6.3e-05,\n",
       "       6.4e-05, 6.5e-05, 6.6e-05, 6.7e-05, 6.8e-05, 6.9e-05, 7.0e-05,\n",
       "       7.1e-05, 7.2e-05, 7.3e-05, 7.4e-05, 7.5e-05, 7.6e-05, 7.7e-05,\n",
       "       7.8e-05, 7.9e-05, 8.0e-05, 8.1e-05, 8.2e-05, 8.3e-05, 8.4e-05,\n",
       "       8.5e-05, 8.6e-05, 8.7e-05, 8.8e-05, 8.9e-05, 9.0e-05, 9.1e-05,\n",
       "       9.2e-05, 9.3e-05, 9.4e-05, 9.5e-05, 9.6e-05, 9.7e-05, 9.8e-05,\n",
       "       9.9e-05, 1.0e-04])},\n",
       "             return_train_score=True)"
      ]
     },
     "execution_count": 46,
     "metadata": {},
     "output_type": "execute_result"
    }
   ],
   "source": [
    "grid = GridSearchCV(estimator=lasso, param_grid={'alpha':alphas}, cv=10, return_train_score=True)\n",
    "grid.fit(Xtrain, ytrain)"
   ]
  },
  {
   "cell_type": "code",
   "execution_count": 47,
   "metadata": {},
   "outputs": [
    {
     "data": {
      "text/plain": [
       "0.9400545826079216"
      ]
     },
     "execution_count": 47,
     "metadata": {},
     "output_type": "execute_result"
    }
   ],
   "source": [
    "grid.score(Xtest,ytest)"
   ]
  },
  {
   "cell_type": "code",
   "execution_count": 48,
   "metadata": {},
   "outputs": [
    {
     "data": {
      "text/plain": [
       "0.9400545826079216"
      ]
     },
     "execution_count": 48,
     "metadata": {},
     "output_type": "execute_result"
    }
   ],
   "source": [
    "best_model = grid.best_estimator_\n",
    "best_model.score(Xtest, ytest)"
   ]
  },
  {
   "cell_type": "code",
   "execution_count": 49,
   "metadata": {},
   "outputs": [
    {
     "data": {
      "text/plain": [
       "array([ 8.22807543e-02, -0.00000000e+00,  0.00000000e+00, -4.81526910e-03,\n",
       "        0.00000000e+00, -1.02607204e-03,  5.50902181e-02,  3.99583497e-02,\n",
       "        2.12312998e-03,  5.75033591e-04, -0.00000000e+00, -0.00000000e+00,\n",
       "        4.08496187e-01,  3.70083119e-05,  6.39057708e-03,  6.50453422e-03,\n",
       "        4.01396124e-03, -0.00000000e+00,  1.26542066e-02,  3.16500435e-03,\n",
       "        7.88768538e-05, -0.00000000e+00,  4.45055824e-05, -0.00000000e+00,\n",
       "        7.27018868e-05,  9.70924284e-03,  5.90951078e-02, -2.59528155e-05,\n",
       "       -1.33981842e-03,  2.78537949e-03, -9.44592158e-03, -5.00863844e-02,\n",
       "        2.39396584e-02,  3.48770386e-03,  1.88869877e-02,  3.66663394e-02,\n",
       "        0.00000000e+00,  1.30036320e-02,  2.93802174e-05,  9.05825409e-05,\n",
       "        8.15505048e-05,  8.87788662e-05,  2.03338797e-04,  2.12587459e-05,\n",
       "        0.00000000e+00,  1.27530453e-03, -7.34330318e-02,  0.00000000e+00,\n",
       "        1.01673005e-01,  4.09310096e-02, -2.07257431e-02,  1.01822382e-02,\n",
       "       -1.34717596e-02, -4.07741751e-02,  0.00000000e+00, -1.67440298e-02,\n",
       "        3.44823877e-01,  1.91379979e-02, -5.98520397e-03, -0.00000000e+00,\n",
       "       -3.44844614e-02, -1.29347304e-02, -0.00000000e+00, -0.00000000e+00,\n",
       "       -1.53489113e-02,  1.47943067e-02,  6.49711900e-03,  7.90549566e-02,\n",
       "       -2.38797218e-02, -0.00000000e+00,  3.04940363e-02,  0.00000000e+00,\n",
       "       -3.82708110e-02,  9.32798798e-02, -1.01364217e-01, -0.00000000e+00,\n",
       "        1.02507707e-01, -5.70914344e-02,  5.03814835e-02, -7.55712345e-02,\n",
       "       -2.73425458e-01, -5.20801475e-02, -3.95820173e-02, -5.65194328e-02,\n",
       "        0.00000000e+00, -0.00000000e+00, -2.08558106e-02,  2.47947232e-03,\n",
       "       -0.00000000e+00,  0.00000000e+00,  7.55070039e-03,  5.14084525e-03,\n",
       "        0.00000000e+00, -1.37251166e-03,  0.00000000e+00, -6.79839880e-02,\n",
       "       -5.03290232e-02,  0.00000000e+00, -7.02700843e-03, -2.60346257e-02,\n",
       "       -3.29494681e-02, -0.00000000e+00,  0.00000000e+00, -1.05440230e-02,\n",
       "       -0.00000000e+00,  5.32387597e-02, -0.00000000e+00,  1.91716597e-02,\n",
       "       -4.16497947e-02,  0.00000000e+00, -1.68657821e-01,  0.00000000e+00,\n",
       "       -3.31570272e-02, -3.57377907e-03, -3.48657791e-02, -0.00000000e+00,\n",
       "       -3.66431999e-03, -1.59921399e-02,  0.00000000e+00, -3.05688640e-04,\n",
       "       -0.00000000e+00, -2.04461361e-02, -5.11561347e-02, -1.06848412e-02,\n",
       "        1.76491927e-02, -0.00000000e+00,  0.00000000e+00, -0.00000000e+00,\n",
       "        2.29033886e-02, -0.00000000e+00,  1.97103747e-02,  7.50095267e-02,\n",
       "        3.89358892e-02,  5.46913356e-02,  4.24151906e-02, -0.00000000e+00,\n",
       "        1.10718606e-01, -2.92511053e-02,  0.00000000e+00,  6.29599992e-02,\n",
       "        4.49400476e-01,  0.00000000e+00,  0.00000000e+00, -5.01501905e-02,\n",
       "        0.00000000e+00,  6.74952088e-02, -1.40161113e-02,  7.95989080e-02,\n",
       "        7.99835518e-02, -0.00000000e+00, -0.00000000e+00,  8.63854866e-03,\n",
       "       -1.97930562e-02,  7.38674292e-02,  1.13066334e-01,  1.72948965e-02,\n",
       "       -1.43589316e-02, -5.48209309e-02, -3.24637728e-02, -0.00000000e+00,\n",
       "        3.97883848e-03, -4.62721176e-02, -3.11930093e-02, -1.13425140e-02,\n",
       "       -2.02822922e-03, -4.13619018e-03])"
      ]
     },
     "execution_count": 49,
     "metadata": {},
     "output_type": "execute_result"
    }
   ],
   "source": [
    "best_model.coef_"
   ]
  },
  {
   "cell_type": "code",
   "execution_count": 50,
   "metadata": {},
   "outputs": [
    {
     "name": "stdout",
     "output_type": "stream",
     "text": [
      "0.9263563286187958\n",
      "{'alpha': 2.3000000000000003e-05}\n"
     ]
    }
   ],
   "source": [
    "print(grid.best_score_)\n",
    "print(grid.best_params_)"
   ]
  },
  {
   "cell_type": "code",
   "execution_count": 51,
   "metadata": {
    "scrolled": false
   },
   "outputs": [],
   "source": [
    "# print(grid.cv_results_.keys())\n",
    "# print(grid.cv_results_)"
   ]
  },
  {
   "cell_type": "code",
   "execution_count": 52,
   "metadata": {},
   "outputs": [],
   "source": [
    "# cv_results = pd.DataFrame(grid.cv_results_)\n",
    "# cv_results"
   ]
  },
  {
   "cell_type": "code",
   "execution_count": 53,
   "metadata": {
    "scrolled": true
   },
   "outputs": [],
   "source": [
    "# cv_results.sort_values('mean_test_score', ascending=False).head(5)\n",
    "# look for the best test set performance"
   ]
  },
  {
   "cell_type": "code",
   "execution_count": 54,
   "metadata": {},
   "outputs": [
    {
     "data": {
      "text/plain": [
       "<matplotlib.legend.Legend at 0x287a7878760>"
      ]
     },
     "execution_count": 54,
     "metadata": {},
     "output_type": "execute_result"
    },
    {
     "data": {
      "image/png": "[encoded data removed]",
      "text/plain": [
       "<Figure size 432x288 with 1 Axes>"
      ]
     },
     "metadata": {
      "needs_background": "light"
     },
     "output_type": "display_data"
    }
   ],
   "source": [
    "cv_results['mean_train_score'].plot(label='mean train score')\n",
    "cv_results['mean_test_score'].plot(label='mean test score')\n",
    "plt.legend(loc=1)"
   ]
  },
  {
   "cell_type": "markdown",
   "metadata": {},
   "source": [
    "### Lasso model (user provides alpha)"
   ]
  },
  {
   "cell_type": "code",
   "execution_count": 55,
   "metadata": {},
   "outputs": [
    {
     "data": {
      "text/plain": [
       "{'alpha': 2.3000000000000003e-05,\n",
       " 'copy_X': True,\n",
       " 'fit_intercept': True,\n",
       " 'max_iter': 1000,\n",
       " 'normalize': True,\n",
       " 'positive': False,\n",
       " 'precompute': False,\n",
       " 'random_state': None,\n",
       " 'selection': 'cyclic',\n",
       " 'tol': 0.0001,\n",
       " 'warm_start': False}"
      ]
     },
     "execution_count": 55,
     "metadata": {},
     "output_type": "execute_result"
    }
   ],
   "source": [
    "lasso2 = Lasso(alpha=2.3000000000000003e-05, normalize=True)\n",
    "lasso2.get_params()"
   ]
  },
  {
   "cell_type": "code",
   "execution_count": 56,
   "metadata": {},
   "outputs": [
    {
     "data": {
      "text/plain": [
       "Lasso(alpha=2.3000000000000003e-05, normalize=True)"
      ]
     },
     "execution_count": 56,
     "metadata": {},
     "output_type": "execute_result"
    }
   ],
   "source": [
    "lasso2.fit(Xtrain,ytrain)"
   ]
  },
  {
   "cell_type": "code",
   "execution_count": 57,
   "metadata": {},
   "outputs": [
    {
     "name": "stdout",
     "output_type": "stream",
     "text": [
      "Train score:  0.9400236096298805\n",
      "Test score:  0.9400545826079216\n"
     ]
    }
   ],
   "source": [
    "print('Train score: ', lasso2.score(Xtrain,ytrain))\n",
    "print('Test score: ', lasso2.score(Xtest,ytest))"
   ]
  },
  {
   "cell_type": "code",
   "execution_count": 59,
   "metadata": {},
   "outputs": [
    {
     "name": "stdout",
     "output_type": "stream",
     "text": [
      "the intercept is: 4.69\n"
     ]
    }
   ],
   "source": [
    "print('the intercept is: %.2f' %(lasso2.intercept_))\n",
    "coefs = pd.Series(lasso2.coef_, index=housefeature.columns)"
   ]
  },
  {
   "cell_type": "code",
   "execution_count": 60,
   "metadata": {},
   "outputs": [
    {
     "data": {
      "text/plain": [
       "Neighborhood__GrnHill     0.449400\n",
       "GrLivArea_Log             0.408496\n",
       "Exterior1st__PreCast      0.344824\n",
       "Neighborhood__StoneBr     0.113066\n",
       "Neighborhood__Crawfor     0.110719\n",
       "SaleCondition__Alloca     0.102508\n",
       "Exterior1st__BrkComm      0.101673\n",
       "Heating__Wall             0.093280\n",
       "LotArea_Log               0.082281\n",
       "Neighborhood__NridgHt     0.079984\n",
       "Neighborhood__NoRidge     0.079599\n",
       "Foundation__Stone         0.079055\n",
       "Neighborhood__Blueste     0.075010\n",
       "Neighborhood__Somerst     0.073867\n",
       "Neighborhood__NPkVill     0.067495\n",
       "Neighborhood__Greens      0.062960\n",
       "CentralAir                0.059095\n",
       "OverallQual               0.055090\n",
       "Neighborhood__BrkSide     0.054691\n",
       "MSSubClass__75            0.053239\n",
       "SaleCondition__Partial    0.050381\n",
       "Neighborhood__ClearCr     0.042415\n",
       "Exterior1st__BrkFace      0.040931\n",
       "OverallCond               0.039958\n",
       "Neighborhood__BrDale      0.038936\n",
       "GarageCars                0.036666\n",
       "Heating__GasW             0.030494\n",
       "KitchenQual               0.023940\n",
       "HouseStyle__SFoyer        0.022903\n",
       "Neighborhood__Blmngtn     0.019710\n",
       "dtype: float64"
      ]
     },
     "execution_count": 60,
     "metadata": {},
     "output_type": "execute_result"
    }
   ],
   "source": [
    "coefs.sort_values(ascending=False).head(30)"
   ]
  },
  {
   "cell_type": "markdown",
   "metadata": {},
   "source": [
    "### Calculate RMSE"
   ]
  },
  {
   "cell_type": "code",
   "execution_count": 61,
   "metadata": {},
   "outputs": [
    {
     "data": {
      "text/plain": [
       "0.008638363807278506"
      ]
     },
     "execution_count": 61,
     "metadata": {},
     "output_type": "execute_result"
    }
   ],
   "source": [
    "mse = np.mean((lasso2.predict(Xtest)-ytest)**2)\n",
    "mse"
   ]
  },
  {
   "cell_type": "code",
   "execution_count": 62,
   "metadata": {},
   "outputs": [
    {
     "data": {
      "text/plain": [
       "0.09294279857675099"
      ]
     },
     "execution_count": 62,
     "metadata": {},
     "output_type": "execute_result"
    }
   ],
   "source": [
    "RMSE = np.sqrt(mse)\n",
    "RMSE"
   ]
  }
 ],
 "metadata": {
  "kernelspec": {
   "display_name": "Python 3",
   "language": "python",
   "name": "python3"
  },
  "language_info": {
   "codemirror_mode": {
    "name": "ipython",
    "version": 3
   },
   "file_extension": ".py",
   "mimetype": "text/x-python",
   "name": "python",
   "nbconvert_exporter": "python",
   "pygments_lexer": "ipython3",
   "version": "3.8.5"
  }
 },
 "nbformat": 4,
 "nbformat_minor": 4
}
