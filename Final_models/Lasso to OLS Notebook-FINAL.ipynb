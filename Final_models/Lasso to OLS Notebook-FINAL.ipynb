{
 "cells": [
  {
   "cell_type": "markdown",
   "metadata": {},
   "source": [
    "# This Notebook uses Lasso to guide feature selection.  \n",
    "## Selected features are then run through OLS for interpretability"
   ]
  },
  {
   "cell_type": "code",
   "execution_count": 1,
   "metadata": {},
   "outputs": [
    {
     "data": {
      "text/plain": [
       "(2578, 178)"
      ]
     },
     "execution_count": 1,
     "metadata": {},
     "output_type": "execute_result"
    }
   ],
   "source": [
    "import numpy as np\n",
    "import pandas as pd\n",
    "import seaborn as sns\n",
    "%matplotlib inline \n",
    "import matplotlib.pyplot as plt\n",
    "pd.options.display.max_columns = 50\n",
    "import warnings\n",
    "warnings.filterwarnings('ignore')\n",
    "\n",
    "\n",
    "housing = pd.read_csv('housing_mar5.csv', index_col=0)\n",
    "housing.shape"
   ]
  },
  {
   "cell_type": "code",
   "execution_count": 2,
   "metadata": {},
   "outputs": [],
   "source": [
    "housetarg = pd.Series(housing.SalePrice_Log, name='target')\n",
    "housefeature = housing.drop('SalePrice_Log',axis=1)"
   ]
  },
  {
   "cell_type": "code",
   "execution_count": 3,
   "metadata": {},
   "outputs": [
    {
     "data": {
      "text/plain": [
       "((1933, 177), (645, 177))"
      ]
     },
     "execution_count": 3,
     "metadata": {},
     "output_type": "execute_result"
    }
   ],
   "source": [
    "from sklearn.model_selection import train_test_split\n",
    "Xtrain, Xtest, ytrain, ytest = train_test_split(housefeature, housetarg, random_state=8)\n",
    "Xtrain.shape, Xtest.shape"
   ]
  },
  {
   "cell_type": "markdown",
   "metadata": {},
   "source": [
    "### Lasso for feature selection\n",
    "- alpha=.0005"
   ]
  },
  {
   "cell_type": "code",
   "execution_count": 4,
   "metadata": {},
   "outputs": [],
   "source": [
    "from sklearn.linear_model import Lasso\n",
    "lasso = Lasso(alpha=.0005, normalize=True)\n",
    "# lasso.get_params()"
   ]
  },
  {
   "cell_type": "code",
   "execution_count": 5,
   "metadata": {},
   "outputs": [
    {
     "data": {
      "text/plain": [
       "Lasso(alpha=0.0005, normalize=True)"
      ]
     },
     "execution_count": 5,
     "metadata": {},
     "output_type": "execute_result"
    }
   ],
   "source": [
    "lasso.fit(housefeature,housetarg)"
   ]
  },
  {
   "cell_type": "code",
   "execution_count": 6,
   "metadata": {},
   "outputs": [
    {
     "name": "stdout",
     "output_type": "stream",
     "text": [
      "Train score:  0.8903367659447151\n",
      "Test score:  0.893375907302457\n"
     ]
    }
   ],
   "source": [
    "print('Train score: ', lasso.score(Xtrain,ytrain))\n",
    "print('Test score: ', lasso.score(Xtest,ytest))"
   ]
  },
  {
   "cell_type": "code",
   "execution_count": 7,
   "metadata": {},
   "outputs": [
    {
     "name": "stdout",
     "output_type": "stream",
     "text": [
      "the intercept is: 3.91\n"
     ]
    }
   ],
   "source": [
    "print('the intercept is: %.2f' %(lasso.intercept_))\n",
    "coefs = pd.Series(abs(lasso.coef_), index=housefeature.columns)"
   ]
  },
  {
   "cell_type": "code",
   "execution_count": 8,
   "metadata": {},
   "outputs": [
    {
     "data": {
      "text/plain": [
       "GrLivArea_Log    0.340627\n",
       "OverallQual      0.083636\n",
       "LotArea_Log      0.060683\n",
       "CentralAir       0.042589\n",
       "KitchenQual      0.029075\n",
       "Fireplaces       0.022461\n",
       "MSZoning__RM     0.018237\n",
       "GarageCars       0.017368\n",
       "ExterQual        0.015450\n",
       "OverallCond      0.009230\n",
       "HeatingQC        0.006735\n",
       "BsmtQual         0.005944\n",
       "PavedDrive       0.005268\n",
       "BsmtExposure     0.002964\n",
       "BsmtFinType1     0.001662\n",
       "YearBuilt        0.001194\n",
       "YearRemodAdd     0.000863\n",
       "TotalBsmtSF      0.000083\n",
       "GarageArea       0.000078\n",
       "BsmtFinSF1       0.000073\n",
       "MasVnrType__0    0.000000\n",
       "dtype: float64"
      ]
     },
     "execution_count": 8,
     "metadata": {},
     "output_type": "execute_result"
    }
   ],
   "source": [
    "coefs.sort_values(ascending=False).head(21)"
   ]
  },
  {
   "cell_type": "markdown",
   "metadata": {},
   "source": [
    "### OLS using 20 features identified by Lasso"
   ]
  },
  {
   "cell_type": "code",
   "execution_count": 9,
   "metadata": {},
   "outputs": [],
   "source": [
    "housefeature_LM = housefeature[['GrLivArea_Log','OverallQual','LotArea_Log','CentralAir','KitchenQual',\n",
    "                             'Fireplaces','MSZoning__RM','GarageCars','ExterQual','OverallCond','HeatingQC',\n",
    "                             'BsmtQual','PavedDrive','BsmtExposure','BsmtFinType1','YearBuilt','YearRemodAdd',\n",
    "                             'TotalBsmtSF','GarageArea','BsmtFinSF1']]"
   ]
  },
  {
   "cell_type": "code",
   "execution_count": 19,
   "metadata": {},
   "outputs": [
    {
     "data": {
      "text/plain": [
       "((1933, 20), (645, 20))"
      ]
     },
     "execution_count": 19,
     "metadata": {},
     "output_type": "execute_result"
    }
   ],
   "source": [
    "from sklearn.model_selection import train_test_split\n",
    "Xtrain, Xtest, ytrain, ytest = train_test_split(housefeature_LM, housetarg, random_state=8)\n",
    "Xtrain.shape, Xtest.shape"
   ]
  },
  {
   "cell_type": "code",
   "execution_count": 25,
   "metadata": {},
   "outputs": [
    {
     "data": {
      "text/plain": [
       "LinearRegression()"
      ]
     },
     "execution_count": 25,
     "metadata": {},
     "output_type": "execute_result"
    }
   ],
   "source": [
    "from sklearn.linear_model import LinearRegression\n",
    "lm = LinearRegression()\n",
    "lm.fit(Xtrain,ytrain)"
   ]
  },
  {
   "cell_type": "markdown",
   "metadata": {},
   "source": [
    "### Check for fit"
   ]
  },
  {
   "cell_type": "code",
   "execution_count": 39,
   "metadata": {},
   "outputs": [
    {
     "name": "stdout",
     "output_type": "stream",
     "text": [
      "train score: 0.913\n",
      "test score: 0.920\n"
     ]
    }
   ],
   "source": [
    "print(f'train score: {lm.score(Xtrain,ytrain):.3f}')\n",
    "print(f'test score: {lm.score(Xtest,ytest):.3f}')"
   ]
  },
  {
   "cell_type": "markdown",
   "metadata": {},
   "source": [
    "- fit is good"
   ]
  },
  {
   "cell_type": "markdown",
   "metadata": {},
   "source": [
    "### Refit to the full dataset"
   ]
  },
  {
   "cell_type": "code",
   "execution_count": 42,
   "metadata": {},
   "outputs": [
    {
     "data": {
      "text/plain": [
       "LinearRegression()"
      ]
     },
     "execution_count": 42,
     "metadata": {},
     "output_type": "execute_result"
    }
   ],
   "source": [
    "lm.all = LinearRegression()\n",
    "lm.all.fit(housefeature_LM, housetarg)"
   ]
  },
  {
   "cell_type": "code",
   "execution_count": 44,
   "metadata": {},
   "outputs": [
    {
     "name": "stdout",
     "output_type": "stream",
     "text": [
      "R^2 is equal to 0.915\n",
      "The intercept is 2.147\n",
      "The slopes are [ 3.89075037e-01  6.89192364e-02  8.58536505e-02  4.42672911e-02\n",
      "  3.02570552e-02  3.58055126e-02 -4.20048887e-02  2.20801974e-02\n",
      "  3.15289684e-02  4.76306809e-02  1.71754442e-02  1.03074386e-02\n",
      "  1.97055558e-02  1.47913220e-02  3.86193672e-03  2.09126618e-03\n",
      "  4.02913870e-04  8.38569561e-05  7.07488930e-05  7.93734890e-05]\n"
     ]
    }
   ],
   "source": [
    "print('R^2 is equal to %.3f' %(lm.all.score(housefeature_LM,housetarg)))\n",
    "#print('RSS is equal to %.3f' %(np.sum((housetarg-lm.predict(housefeature2))**2)))\n",
    "print('The intercept is %.3f' %(lm.all.intercept_))\n",
    "print('The slopes are %s' %(lm.all.coef_))"
   ]
  },
  {
   "cell_type": "code",
   "execution_count": 45,
   "metadata": {},
   "outputs": [],
   "source": [
    "coefs = pd.Series(lm.all.coef_, index=housefeature_LM.columns)"
   ]
  },
  {
   "cell_type": "code",
   "execution_count": 46,
   "metadata": {},
   "outputs": [
    {
     "data": {
      "text/plain": [
       "GrLivArea_Log    0.389075\n",
       "LotArea_Log      0.085854\n",
       "OverallQual      0.068919\n",
       "OverallCond      0.047631\n",
       "CentralAir       0.044267\n",
       "Fireplaces       0.035806\n",
       "ExterQual        0.031529\n",
       "KitchenQual      0.030257\n",
       "GarageCars       0.022080\n",
       "PavedDrive       0.019706\n",
       "HeatingQC        0.017175\n",
       "BsmtExposure     0.014791\n",
       "BsmtQual         0.010307\n",
       "BsmtFinType1     0.003862\n",
       "YearBuilt        0.002091\n",
       "YearRemodAdd     0.000403\n",
       "TotalBsmtSF      0.000084\n",
       "BsmtFinSF1       0.000079\n",
       "GarageArea       0.000071\n",
       "MSZoning__RM    -0.042005\n",
       "dtype: float64"
      ]
     },
     "execution_count": 46,
     "metadata": {},
     "output_type": "execute_result"
    }
   ],
   "source": [
    "coefs.sort_values(ascending=False).head(20)"
   ]
  },
  {
   "cell_type": "markdown",
   "metadata": {},
   "source": [
    "### Calculate RMSE"
   ]
  },
  {
   "cell_type": "code",
   "execution_count": 49,
   "metadata": {},
   "outputs": [
    {
     "name": "stdout",
     "output_type": "stream",
     "text": [
      "RMSE: 0.113\n"
     ]
    }
   ],
   "source": [
    "mse = np.mean((lm.all.predict(housefeature_LM)-housetarg)**2)\n",
    "RMSE = np.sqrt(mse)\n",
    "print(f'RMSE: {RMSE:.3f}')"
   ]
  },
  {
   "cell_type": "markdown",
   "metadata": {},
   "source": [
    "### Interpreting the coefs where the dependent target is log transformed but the independent variable is not"
   ]
  },
  {
   "cell_type": "code",
   "execution_count": 76,
   "metadata": {},
   "outputs": [],
   "source": [
    "import numpy as np\n",
    "def exp_coef(coef):\n",
    "    return (np.exp(coef)-1)*100\n",
    "    \n",
    "# exp_coef(.068919)"
   ]
  },
  {
   "cell_type": "code",
   "execution_count": 77,
   "metadata": {},
   "outputs": [
    {
     "data": {
      "text/plain": [
       "GrLivArea_Log    47.561527\n",
       "OverallQual       7.134968\n",
       "LotArea_Log       8.964685\n",
       "CentralAir        4.526171\n",
       "KitchenQual       3.071945\n",
       "Fireplaces        3.645425\n",
       "MSZoning__RM     -4.113491\n",
       "GarageCars        2.232577\n",
       "ExterQual         3.203127\n",
       "OverallCond       4.878325\n",
       "HeatingQC         1.732379\n",
       "BsmtQual          1.036074\n",
       "PavedDrive        1.990099\n",
       "BsmtExposure      1.490125\n",
       "BsmtFinType1      0.386940\n",
       "YearBuilt         0.209345\n",
       "YearRemodAdd      0.040300\n",
       "TotalBsmtSF       0.008386\n",
       "GarageArea        0.007075\n",
       "BsmtFinSF1        0.007938\n",
       "dtype: float64"
      ]
     },
     "execution_count": 77,
     "metadata": {},
     "output_type": "execute_result"
    }
   ],
   "source": [
    "coef_exp = coefs.apply(lambda x: exp_coef(x))\n",
    "coef_exp"
   ]
  }
 ],
 "metadata": {
  "kernelspec": {
   "display_name": "Python 3",
   "language": "python",
   "name": "python3"
  },
  "language_info": {
   "codemirror_mode": {
    "name": "ipython",
    "version": 3
   },
   "file_extension": ".py",
   "mimetype": "text/x-python",
   "name": "python",
   "nbconvert_exporter": "python",
   "pygments_lexer": "ipython3",
   "version": "3.8.5"
  }
 },
 "nbformat": 4,
 "nbformat_minor": 4
}
