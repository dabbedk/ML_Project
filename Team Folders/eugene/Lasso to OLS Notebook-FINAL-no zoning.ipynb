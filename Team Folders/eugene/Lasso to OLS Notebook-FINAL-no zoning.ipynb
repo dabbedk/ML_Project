{
 "cells": [
  {
   "cell_type": "markdown",
   "metadata": {},
   "source": [
    "# This Notebook uses Lasso to guide feature selection.  \n",
    "## Selected features are then run through OLS for interpretability"
   ]
  },
  {
   "cell_type": "code",
   "execution_count": 1,
   "metadata": {},
   "outputs": [
    {
     "data": {
      "text/plain": [
       "(2578, 178)"
      ]
     },
     "execution_count": 1,
     "metadata": {},
     "output_type": "execute_result"
    }
   ],
   "source": [
    "import numpy as np\n",
    "import pandas as pd\n",
    "import seaborn as sns\n",
    "%matplotlib inline \n",
    "import matplotlib.pyplot as plt\n",
    "pd.options.display.max_columns = 50\n",
    "import warnings\n",
    "warnings.filterwarnings('ignore')\n",
    "\n",
    "\n",
    "housing = pd.read_csv('housing_mar5.csv', index_col=0)\n",
    "housing.shape"
   ]
  },
  {
   "cell_type": "code",
   "execution_count": 2,
   "metadata": {},
   "outputs": [],
   "source": [
    "housetarg = pd.Series(housing.SalePrice_Log, name='target')\n",
    "housefeature = housing.drop('SalePrice_Log',axis=1)"
   ]
  },
  {
   "cell_type": "code",
   "execution_count": 3,
   "metadata": {},
   "outputs": [
    {
     "data": {
      "text/plain": [
       "((1933, 177), (645, 177))"
      ]
     },
     "execution_count": 3,
     "metadata": {},
     "output_type": "execute_result"
    }
   ],
   "source": [
    "from sklearn.model_selection import train_test_split\n",
    "Xtrain, Xtest, ytrain, ytest = train_test_split(housefeature, housetarg, random_state=8)\n",
    "Xtrain.shape, Xtest.shape"
   ]
  },
  {
   "cell_type": "markdown",
   "metadata": {},
   "source": [
    "### Lasso for feature selection\n",
    "- alpha=.0005"
   ]
  },
  {
   "cell_type": "code",
   "execution_count": 4,
   "metadata": {},
   "outputs": [],
   "source": [
    "from sklearn.linear_model import Lasso\n",
    "lasso = Lasso(alpha=.0005, normalize=True)\n",
    "# lasso.get_params()"
   ]
  },
  {
   "cell_type": "code",
   "execution_count": 5,
   "metadata": {},
   "outputs": [
    {
     "data": {
      "text/plain": [
       "Lasso(alpha=0.0005, normalize=True)"
      ]
     },
     "execution_count": 5,
     "metadata": {},
     "output_type": "execute_result"
    }
   ],
   "source": [
    "lasso.fit(housefeature,housetarg)"
   ]
  },
  {
   "cell_type": "code",
   "execution_count": 6,
   "metadata": {},
   "outputs": [
    {
     "name": "stdout",
     "output_type": "stream",
     "text": [
      "Train score:  0.8903367659447151\n",
      "Test score:  0.893375907302457\n"
     ]
    }
   ],
   "source": [
    "print('Train score: ', lasso.score(Xtrain,ytrain))\n",
    "print('Test score: ', lasso.score(Xtest,ytest))"
   ]
  },
  {
   "cell_type": "code",
   "execution_count": 7,
   "metadata": {},
   "outputs": [
    {
     "name": "stdout",
     "output_type": "stream",
     "text": [
      "the intercept is: 3.91\n"
     ]
    }
   ],
   "source": [
    "print('the intercept is: %.2f' %(lasso.intercept_))\n",
    "coefs = pd.Series(abs(lasso.coef_), index=housefeature.columns)"
   ]
  },
  {
   "cell_type": "code",
   "execution_count": 8,
   "metadata": {},
   "outputs": [
    {
     "data": {
      "text/plain": [
       "GrLivArea_Log    0.340627\n",
       "OverallQual      0.083636\n",
       "LotArea_Log      0.060683\n",
       "CentralAir       0.042589\n",
       "KitchenQual      0.029075\n",
       "Fireplaces       0.022461\n",
       "MSZoning__RM     0.018237\n",
       "GarageCars       0.017368\n",
       "ExterQual        0.015450\n",
       "OverallCond      0.009230\n",
       "HeatingQC        0.006735\n",
       "BsmtQual         0.005944\n",
       "PavedDrive       0.005268\n",
       "BsmtExposure     0.002964\n",
       "BsmtFinType1     0.001662\n",
       "YearBuilt        0.001194\n",
       "YearRemodAdd     0.000863\n",
       "TotalBsmtSF      0.000083\n",
       "GarageArea       0.000078\n",
       "BsmtFinSF1       0.000073\n",
       "MasVnrType__0    0.000000\n",
       "dtype: float64"
      ]
     },
     "execution_count": 8,
     "metadata": {},
     "output_type": "execute_result"
    }
   ],
   "source": [
    "coefs.sort_values(ascending=False).head(21)"
   ]
  },
  {
   "cell_type": "markdown",
   "metadata": {},
   "source": [
    "### OLS using 20 features identified by Lasso"
   ]
  },
  {
   "cell_type": "code",
   "execution_count": 46,
   "metadata": {},
   "outputs": [
    {
     "data": {
      "text/plain": [
       "Index(['LotArea_Log', 'Street_Paved', 'LotShape', 'LandContour', 'Utilities',\n",
       "       'LandSlope', 'OverallQual', 'OverallCond', 'YearBuilt', 'YearRemodAdd',\n",
       "       ...\n",
       "       'FireplaceQu__2', 'FireplaceQu__4', 'FireplaceQu__5', 'FireplaceQu__TA',\n",
       "       'GarageCond__0.0', 'GarageCond__1.0', 'GarageCond__2.0',\n",
       "       'GarageCond__4.0', 'GarageCond__5.0', 'ISU_dist'],\n",
       "      dtype='object', length=177)"
      ]
     },
     "execution_count": 46,
     "metadata": {},
     "output_type": "execute_result"
    }
   ],
   "source": [
    "housefeature.columns"
   ]
  },
  {
   "cell_type": "code",
   "execution_count": 113,
   "metadata": {},
   "outputs": [],
   "source": [
    "#removed: 'GarageCars' 'MSZoning__RM',\n",
    "housefeature_LM = housefeature[['GrLivArea_Log','OverallQual','LotArea_Log','CentralAir','KitchenQual',\n",
    "                             'Fireplaces','HeatingQC','OverallCond',\n",
    "                             'BsmtQual','PavedDrive','BsmtExposure','YearBuilt','YearRemodAdd',\n",
    "                            'ExterQual','GarageArea','TotalBsmtSF','BsmtFinSF1','BsmtFinType1' \n",
    "                             ]]\n",
    "housing_LM = housefeature_LM.merge(housetarg, how=\"inner\", left_index=True, right_index=True)\n",
    "housing_LM.to_csv('housing_LM.csv')"
   ]
  },
  {
   "cell_type": "code",
   "execution_count": 114,
   "metadata": {},
   "outputs": [
    {
     "data": {
      "text/plain": [
       "((1933, 18), (645, 18))"
      ]
     },
     "execution_count": 114,
     "metadata": {},
     "output_type": "execute_result"
    }
   ],
   "source": [
    "from sklearn.model_selection import train_test_split\n",
    "Xtrain, Xtest, ytrain, ytest = train_test_split(housefeature_LM, housetarg, random_state=8)\n",
    "Xtrain.shape, Xtest.shape"
   ]
  },
  {
   "cell_type": "code",
   "execution_count": 115,
   "metadata": {},
   "outputs": [
    {
     "data": {
      "text/plain": [
       "LinearRegression()"
      ]
     },
     "execution_count": 115,
     "metadata": {},
     "output_type": "execute_result"
    }
   ],
   "source": [
    "from sklearn.linear_model import LinearRegression\n",
    "lm = LinearRegression()\n",
    "lm.fit(Xtrain,ytrain)"
   ]
  },
  {
   "cell_type": "markdown",
   "metadata": {},
   "source": [
    "### Check for fit"
   ]
  },
  {
   "cell_type": "code",
   "execution_count": 116,
   "metadata": {},
   "outputs": [
    {
     "name": "stdout",
     "output_type": "stream",
     "text": [
      "train score: 0.912\n",
      "test score: 0.919\n"
     ]
    }
   ],
   "source": [
    "print(f'train score: {lm.score(Xtrain,ytrain):.3f}')\n",
    "print(f'test score: {lm.score(Xtest,ytest):.3f}')"
   ]
  },
  {
   "cell_type": "markdown",
   "metadata": {},
   "source": [
    "- fit is good"
   ]
  },
  {
   "cell_type": "markdown",
   "metadata": {},
   "source": [
    "### Refit to the full dataset"
   ]
  },
  {
   "cell_type": "code",
   "execution_count": 117,
   "metadata": {},
   "outputs": [
    {
     "data": {
      "text/plain": [
       "LinearRegression()"
      ]
     },
     "execution_count": 117,
     "metadata": {},
     "output_type": "execute_result"
    }
   ],
   "source": [
    "lm.all = LinearRegression()\n",
    "lm.all.fit(housefeature_LM, housetarg)"
   ]
  },
  {
   "cell_type": "code",
   "execution_count": 118,
   "metadata": {},
   "outputs": [
    {
     "name": "stdout",
     "output_type": "stream",
     "text": [
      "R^2 is equal to 0.914\n",
      "The intercept is 1.434\n"
     ]
    }
   ],
   "source": [
    "print('R^2 is equal to %.3f' %(lm.all.score(housefeature_LM,housetarg)))\n",
    "#print('RSS is equal to %.3f' %(np.sum((housetarg-lm.predict(housefeature2))**2)))\n",
    "print('The intercept is %.3f' %(lm.all.intercept_))\n",
    "# print('The slopes are %s' %(lm.all.coef_))"
   ]
  },
  {
   "cell_type": "code",
   "execution_count": 119,
   "metadata": {},
   "outputs": [],
   "source": [
    "coefs = pd.Series(lm.all.coef_, index=housefeature_LM.columns)"
   ]
  },
  {
   "cell_type": "code",
   "execution_count": 120,
   "metadata": {},
   "outputs": [
    {
     "data": {
      "text/plain": [
       "GrLivArea_Log    0.389052\n",
       "LotArea_Log      0.098805\n",
       "OverallQual      0.069213\n",
       "OverallCond      0.047838\n",
       "CentralAir       0.041008\n",
       "Fireplaces       0.038519\n",
       "ExterQual        0.031465\n",
       "KitchenQual      0.029637\n",
       "PavedDrive       0.021341\n",
       "HeatingQC        0.016745\n",
       "BsmtExposure     0.013500\n",
       "BsmtQual         0.009904\n",
       "BsmtFinType1     0.004445\n",
       "YearBuilt        0.002420\n",
       "YearRemodAdd     0.000379\n",
       "GarageArea       0.000128\n",
       "TotalBsmtSF      0.000084\n",
       "BsmtFinSF1       0.000077\n",
       "dtype: float64"
      ]
     },
     "execution_count": 120,
     "metadata": {},
     "output_type": "execute_result"
    }
   ],
   "source": [
    "coefs.sort_values(ascending=False).head(20)"
   ]
  },
  {
   "cell_type": "markdown",
   "metadata": {},
   "source": [
    "### Calculate RMSE"
   ]
  },
  {
   "cell_type": "code",
   "execution_count": 121,
   "metadata": {},
   "outputs": [
    {
     "name": "stdout",
     "output_type": "stream",
     "text": [
      "RMSE: 0.114\n"
     ]
    }
   ],
   "source": [
    "mse = np.mean((lm.all.predict(housefeature_LM)-housetarg)**2)\n",
    "RMSE = np.sqrt(mse)\n",
    "print(f'RMSE: {RMSE:.3f}')"
   ]
  },
  {
   "cell_type": "markdown",
   "metadata": {},
   "source": [
    "### Interpreting the coefs where the dependent target is log transformed but the independent variable is not"
   ]
  },
  {
   "cell_type": "code",
   "execution_count": 122,
   "metadata": {},
   "outputs": [],
   "source": [
    "import numpy as np\n",
    "def exp_coef(coef):\n",
    "    return (np.exp(coef)-1)*100\n",
    "    \n",
    "# exp_coef(.068919)"
   ]
  },
  {
   "cell_type": "code",
   "execution_count": 123,
   "metadata": {},
   "outputs": [
    {
     "data": {
      "text/plain": [
       "GrLivArea_Log    47.558153\n",
       "LotArea_Log      10.385097\n",
       "OverallQual       7.166478\n",
       "OverallCond       4.900031\n",
       "CentralAir        4.186009\n",
       "Fireplaces        3.927014\n",
       "ExterQual         3.196554\n",
       "KitchenQual       3.008039\n",
       "PavedDrive        2.156994\n",
       "HeatingQC         1.688602\n",
       "BsmtExposure      1.359183\n",
       "BsmtQual          0.995367\n",
       "BsmtFinType1      0.445473\n",
       "YearBuilt         0.242249\n",
       "YearRemodAdd      0.037949\n",
       "GarageArea        0.012759\n",
       "TotalBsmtSF       0.008445\n",
       "BsmtFinSF1        0.007711\n",
       "dtype: float64"
      ]
     },
     "execution_count": 123,
     "metadata": {},
     "output_type": "execute_result"
    }
   ],
   "source": [
    "coef_exp = coefs.apply(lambda x: exp_coef(x))\n",
    "coef_exp.sort_values(ascending=False)"
   ]
  },
  {
   "cell_type": "markdown",
   "metadata": {},
   "source": [
    "### Statsmodel"
   ]
  },
  {
   "cell_type": "code",
   "execution_count": 124,
   "metadata": {},
   "outputs": [
    {
     "name": "stdout",
     "output_type": "stream",
     "text": [
      "                                 OLS Regression Results                                \n",
      "=======================================================================================\n",
      "Dep. Variable:                 target   R-squared (uncentered):                   1.000\n",
      "Model:                            OLS   Adj. R-squared (uncentered):              1.000\n",
      "Method:                 Least Squares   F-statistic:                          1.584e+06\n",
      "Date:                Sat, 06 Mar 2021   Prob (F-statistic):                        0.00\n",
      "Time:                        23:51:17   Log-Likelihood:                          1942.7\n",
      "No. Observations:                2578   AIC:                                     -3849.\n",
      "Df Residuals:                    2560   BIC:                                     -3744.\n",
      "Df Model:                          18                                                  \n",
      "Covariance Type:            nonrobust                                                  \n",
      "=================================================================================\n",
      "                    coef    std err          t      P>|t|      [0.025      0.975]\n",
      "---------------------------------------------------------------------------------\n",
      "GrLivArea_Log     0.3972      0.010     39.805      0.000       0.378       0.417\n",
      "OverallQual       0.0672      0.003     22.194      0.000       0.061       0.073\n",
      "LotArea_Log       0.1009      0.005     19.757      0.000       0.091       0.111\n",
      "CentralAir        0.0360      0.011      3.310      0.001       0.015       0.057\n",
      "KitchenQual       0.0248      0.005      4.655      0.000       0.014       0.035\n",
      "Fireplaces        0.0389      0.004      9.337      0.000       0.031       0.047\n",
      "HeatingQC         0.0141      0.003      4.881      0.000       0.008       0.020\n",
      "OverallCond       0.0497      0.003     19.339      0.000       0.045       0.055\n",
      "BsmtQual          0.0062      0.004      1.576      0.115      -0.002       0.014\n",
      "PavedDrive        0.0185      0.005      3.616      0.000       0.008       0.028\n",
      "BsmtExposure      0.0134      0.003      5.279      0.000       0.008       0.018\n",
      "YearBuilt         0.0027      0.000     21.198      0.000       0.002       0.003\n",
      "YearRemodAdd      0.0008      0.000      5.999      0.000       0.001       0.001\n",
      "ExterQual         0.0271      0.007      4.035      0.000       0.014       0.040\n",
      "GarageArea        0.0001   1.44e-05      8.277      0.000    9.07e-05       0.000\n",
      "TotalBsmtSF    8.718e-05   8.04e-06     10.837      0.000    7.14e-05       0.000\n",
      "BsmtFinSF1     7.808e-05    8.6e-06      9.074      0.000    6.12e-05     9.5e-05\n",
      "BsmtFinType1      0.0038      0.002      2.239      0.025       0.000       0.007\n",
      "==============================================================================\n",
      "Omnibus:                     1267.227   Durbin-Watson:                   1.580\n",
      "Prob(Omnibus):                  0.000   Jarque-Bera (JB):            43626.011\n",
      "Skew:                          -1.683   Prob(JB):                         0.00\n",
      "Kurtosis:                      22.870   Cond. No.                     1.49e+04\n",
      "==============================================================================\n",
      "\n",
      "Notes:\n",
      "[1] R² is computed without centering (uncentered) since the model does not contain a constant.\n",
      "[2] Standard Errors assume that the covariance matrix of the errors is correctly specified.\n",
      "[3] The condition number is large, 1.49e+04. This might indicate that there are\n",
      "strong multicollinearity or other numerical problems.\n"
     ]
    }
   ],
   "source": [
    "import statsmodels.api as sm \n",
    "X_add_const = sm.add_constant(housefeature_LM)\n",
    "ols = sm.OLS(housetarg, housefeature_LM)\n",
    "ans = ols.fit()\n",
    "print(ans.summary())"
   ]
  },
  {
   "cell_type": "code",
   "execution_count": null,
   "metadata": {},
   "outputs": [],
   "source": []
  }
 ],
 "metadata": {
  "kernelspec": {
   "display_name": "Python 3",
   "language": "python",
   "name": "python3"
  },
  "language_info": {
   "codemirror_mode": {
    "name": "ipython",
    "version": 3
   },
   "file_extension": ".py",
   "mimetype": "text/x-python",
   "name": "python",
   "nbconvert_exporter": "python",
   "pygments_lexer": "ipython3",
   "version": "3.8.5"
  }
 },
 "nbformat": 4,
 "nbformat_minor": 4
}
