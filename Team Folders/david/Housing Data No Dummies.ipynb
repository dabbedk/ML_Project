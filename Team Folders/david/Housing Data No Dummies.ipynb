{
 "cells": [
  {
   "cell_type": "code",
   "execution_count": 1,
   "metadata": {},
   "outputs": [
    {
     "data": {
      "text/plain": [
       "(2580, 80)"
      ]
     },
     "execution_count": 1,
     "metadata": {},
     "output_type": "execute_result"
    }
   ],
   "source": [
    "import numpy as np\n",
    "import pandas as pd\n",
    "import seaborn as sns\n",
    "%matplotlib inline \n",
    "import matplotlib.pyplot as plt\n",
    "pd.options.display.max_columns = 50\n",
    "import warnings\n",
    "warnings.filterwarnings('ignore')\n",
    "\n",
    "\n",
    "housing = pd.read_csv('./data/Ames_Housing_Price_Data.csv', index_col=0)\n",
    "housing.set_index('PID', inplace=True)\n",
    "housing.shape"
   ]
  },
  {
   "cell_type": "code",
   "execution_count": null,
   "metadata": {},
   "outputs": [],
   "source": [
    "housing = housing[['SalePrice','MSSubClass','MSZoning','LotArea','Street', 'LotShape', 'LandContour',\n",
    "       'Utilities', 'LotConfig', 'LandSlope', 'Neighborhood', 'Condition1',\n",
    "       'Condition2', 'BldgType', 'HouseStyle', 'OverallQual', 'OverallCond',\n",
    "       'YearBuilt', 'YearRemodAdd', 'RoofStyle', 'RoofMatl','GrLivArea','Exterior1st','MasVnrType', 'MasVnrArea', 'ExterQual', 'ExterCond',\\\n",
    "                   'Foundation', 'BsmtQual', 'BsmtCond', 'BsmtExposure', 'BsmtFinType1',\\\n",
    "                   'BsmtFinSF1', 'BsmtFinType2', 'BsmtFinSF2', 'BsmtUnfSF', 'TotalBsmtSF',\\\n",
    "                   'Heating', 'HeatingQC', 'CentralAir','MoSold', 'YrSold','SaleCondition',\\\n",
    "                   'BsmtFullBath','BsmtHalfBath','FullBath','HalfBath',\\\n",
    "                   'BedroomAbvGr','KitchenAbvGr','KitchenQual','TotRmsAbvGrd',\\\n",
    "                   'Functional','Fireplaces','FireplaceQu','GarageType','GarageFinish',\\\n",
    "                   'GarageCars','GarageArea','GarageQual','GarageCond','PavedDrive',\\\n",
    "                   'WoodDeckSF','OpenPorchSF','EnclosedPorch','3SsnPorch','ScreenPorch','PoolArea','Fence']]"
   ]
  },
  {
   "cell_type": "code",
   "execution_count": 2,
   "metadata": {},
   "outputs": [],
   "source": [
    "housing['MSSubClass'] = housing['MSSubClass'].astype(str)"
   ]
  },
  {
   "cell_type": "code",
   "execution_count": 3,
   "metadata": {},
   "outputs": [],
   "source": [
    "#NAs to 0\n",
    "housing[['BsmtFinSF1','BsmtFinSF2','BsmtUnfSF','TotalBsmtSF','MasVnrType','MasVnrArea']] = \\\n",
    "housing[['BsmtFinSF1','BsmtFinSF2','BsmtUnfSF','TotalBsmtSF','MasVnrType','MasVnrArea']].fillna(0)\n",
    "housing[['BsmtCond','BsmtExposure','BsmtFinType1','BsmtFinType2','BsmtQual','ExterQual','ExterCond','HeatingQC','Fence']] = \\\n",
    "housing[['BsmtCond','BsmtExposure','BsmtFinType1','BsmtFinType2','BsmtQual','ExterQual','ExterCond','HeatingQC','Fence']].fillna('None')\n",
    "\n",
    "# Filling nominal NA's with 0's (no basement or garage)\n",
    "housing['GarageQual'].fillna('None', inplace = True)\n",
    "housing['GarageCond'].fillna('None', inplace = True)\n",
    "housing['GarageCars'].fillna(0, inplace = True)\n",
    "housing['GarageArea'].fillna(0, inplace = True)\n",
    "\n",
    "# Filling categorical NA's with 'None' (no garage)\n",
    "housing['GarageType'].fillna('None', inplace = True)\n",
    "housing['GarageFinish'].fillna('None', inplace = True)"
   ]
  },
  {
   "cell_type": "code",
   "execution_count": 4,
   "metadata": {},
   "outputs": [],
   "source": [
    "# Filling Basement bathroom NA's with 0\n",
    "housing['BsmtFullBath'].fillna(0, inplace = True)\n",
    "housing['BsmtHalfBath'].fillna(0, inplace = True)\n",
    "\n",
    "# Combining bathrooms to single variable and dropping the individual counts\n",
    "housing['TotalBath'] = housing['BsmtFullBath'] + (housing['BsmtHalfBath']*5) + housing['FullBath'] + (housing['HalfBath']*.5)\n",
    "housing.drop(['BsmtFullBath', 'BsmtHalfBath', 'HalfBath'], axis = 1, inplace = True)"
   ]
  },
  {
   "cell_type": "code",
   "execution_count": 5,
   "metadata": {},
   "outputs": [],
   "source": [
    "housing.drop(['GarageArea', 'GarageCond'], axis = 1, inplace = True)\n",
    "housing.drop(['FireplaceQu'], axis = 1, inplace = True)\n",
    "housing.drop(['Condition2'], axis = 1, inplace = True)"
   ]
  },
  {
   "cell_type": "code",
   "execution_count": 6,
   "metadata": {},
   "outputs": [],
   "source": [
    "housing.drop(housing[housing[\"GrLivArea\"] > 4000].index, inplace = True)"
   ]
  },
  {
   "cell_type": "code",
   "execution_count": 7,
   "metadata": {},
   "outputs": [],
   "source": [
    "housing['LotArea']=np.log(housing['LotArea'])\n",
    "housing['GrLivArea'] = np.log(housing['GrLivArea'])\n",
    "housing['SalePrice'] = np.log(housing['SalePrice'])\n",
    "housing.rename(columns = {'LotArea': 'LotArea_Log', 'GrLivArea':'GrLivArea_Log', 'SalePrice':'SalePrice_Log'}, inplace = True)"
   ]
  },
  {
   "cell_type": "code",
   "execution_count": 8,
   "metadata": {},
   "outputs": [],
   "source": [
    "ISU_dist = pd.read_csv('./data/ISU_dist.csv', index_col=0)\n",
    "housing = housing.merge(ISU_dist, how='left', left_index=True, right_index=True)\n",
    "housing['ISU_dist'].fillna(np.mean(housing.ISU_dist),inplace=True)"
   ]
  },
  {
   "cell_type": "code",
   "execution_count": 33,
   "metadata": {},
   "outputs": [
    {
     "data": {
      "text/plain": [
       "Series([], dtype: int64)"
      ]
     },
     "execution_count": 33,
     "metadata": {},
     "output_type": "execute_result"
    }
   ],
   "source": [
    "missing = housing.isnull().sum()\n",
    "missing = missing[missing > 0]\n",
    "missing"
   ]
  },
  {
   "cell_type": "code",
   "execution_count": 20,
   "metadata": {},
   "outputs": [
    {
     "data": {
      "text/plain": [
       "6"
      ]
     },
     "execution_count": 20,
     "metadata": {},
     "output_type": "execute_result"
    }
   ],
   "source": [
    "sum(housing.isnull().any())"
   ]
  },
  {
   "cell_type": "code",
   "execution_count": 34,
   "metadata": {},
   "outputs": [],
   "source": [
    "housing.to_csv('treehouse.csv')"
   ]
  },
  {
   "cell_type": "code",
   "execution_count": 30,
   "metadata": {},
   "outputs": [],
   "source": [
    "housing['Alley'].fillna('None', inplace = True)\n",
    "housing['Electrical'].fillna('None', inplace = True)\n",
    "housing['LotFrontage'].fillna(housing['LotFrontage'].mean(), inplace = True)\n"
   ]
  },
  {
   "cell_type": "code",
   "execution_count": 29,
   "metadata": {},
   "outputs": [
    {
     "data": {
      "text/plain": [
       "68.47022684310019"
      ]
     },
     "execution_count": 29,
     "metadata": {},
     "output_type": "execute_result"
    }
   ],
   "source": [
    "housing['LotFrontage'].mean()"
   ]
  },
  {
   "cell_type": "code",
   "execution_count": 32,
   "metadata": {
    "scrolled": true
   },
   "outputs": [],
   "source": [
    "housing.drop(['MiscFeature', 'PoolQC', 'GarageYrBlt'], axis = 1, inplace = True)"
   ]
  }
 ],
 "metadata": {
  "kernelspec": {
   "display_name": "Python 3",
   "language": "python",
   "name": "python3"
  },
  "language_info": {
   "codemirror_mode": {
    "name": "ipython",
    "version": 3
   },
   "file_extension": ".py",
   "mimetype": "text/x-python",
   "name": "python",
   "nbconvert_exporter": "python",
   "pygments_lexer": "ipython3",
   "version": "3.8.5"
  }
 },
 "nbformat": 4,
 "nbformat_minor": 4
}
