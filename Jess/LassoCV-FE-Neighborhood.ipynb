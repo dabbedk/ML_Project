{
 "cells": [
  {
   "cell_type": "markdown",
   "metadata": {},
   "source": [
    "# Lasso Notebook"
   ]
  },
  {
   "cell_type": "code",
   "execution_count": 177,
   "metadata": {},
   "outputs": [
    {
     "data": {
      "text/plain": [
       "(2413, 137)"
      ]
     },
     "execution_count": 177,
     "metadata": {},
     "output_type": "execute_result"
    }
   ],
   "source": [
    "import numpy as np\n",
    "import pandas as pd\n",
    "import seaborn as sns\n",
    "%matplotlib inline \n",
    "import matplotlib.pyplot as plt\n",
    "pd.options.display.max_columns = 50\n",
    "import warnings\n",
    "warnings.filterwarnings('ignore')\n",
    "\n",
    "\n",
    "housing = pd.read_csv('housing_neigh.csv', index_col=0)\n",
    "housing.shape"
   ]
  },
  {
   "cell_type": "code",
   "execution_count": 178,
   "metadata": {},
   "outputs": [],
   "source": [
    "housetarg = pd.Series(housing.SalePrice_Log, name='target')\n",
    "housefeature = housing.drop('SalePrice_Log',axis=1)"
   ]
  },
  {
   "cell_type": "code",
   "execution_count": 179,
   "metadata": {},
   "outputs": [
    {
     "data": {
      "text/plain": [
       "((1809, 136), (604, 136))"
      ]
     },
     "execution_count": 179,
     "metadata": {},
     "output_type": "execute_result"
    }
   ],
   "source": [
    "from sklearn.model_selection import train_test_split\n",
    "Xtrain, Xtest, ytrain, ytest = train_test_split(housefeature, housetarg)\n",
    "Xtrain.shape, Xtest.shape"
   ]
  },
  {
   "cell_type": "code",
   "execution_count": 180,
   "metadata": {},
   "outputs": [],
   "source": [
    "import numpy as np\n",
    "alphas = np.linspace(0.00001,.0001,100)"
   ]
  },
  {
   "cell_type": "markdown",
   "metadata": {},
   "source": [
    "### Lasso Gridsearch CV"
   ]
  },
  {
   "cell_type": "code",
   "execution_count": 181,
   "metadata": {},
   "outputs": [],
   "source": [
    "from sklearn.model_selection import GridSearchCV, RandomizedSearchCV\n",
    "#randomized is faster\n",
    "from sklearn.linear_model import Lasso"
   ]
  },
  {
   "cell_type": "code",
   "execution_count": 182,
   "metadata": {},
   "outputs": [],
   "source": [
    "lasso = Lasso(normalize=True)"
   ]
  },
  {
   "cell_type": "code",
   "execution_count": 183,
   "metadata": {
    "scrolled": true
   },
   "outputs": [
    {
     "data": {
      "text/plain": [
       "GridSearchCV(cv=10, estimator=Lasso(normalize=True),\n",
       "             param_grid={'alpha': array([1.00000000e-05, 1.09090909e-05, 1.18181818e-05, 1.27272727e-05,\n",
       "       1.36363636e-05, 1.45454545e-05, 1.54545455e-05, 1.63636364e-05,\n",
       "       1.72727273e-05, 1.81818182e-05, 1.90909091e-05, 2.00000000e-05,\n",
       "       2.09090909e-05, 2.18181818e-05, 2.27272727e-05, 2.36363636e-05,\n",
       "       2.45454545e-05, 2.54545455e-05, 2....\n",
       "       7.90909091e-05, 8.00000000e-05, 8.09090909e-05, 8.18181818e-05,\n",
       "       8.27272727e-05, 8.36363636e-05, 8.45454545e-05, 8.54545455e-05,\n",
       "       8.63636364e-05, 8.72727273e-05, 8.81818182e-05, 8.90909091e-05,\n",
       "       9.00000000e-05, 9.09090909e-05, 9.18181818e-05, 9.27272727e-05,\n",
       "       9.36363636e-05, 9.45454545e-05, 9.54545455e-05, 9.63636364e-05,\n",
       "       9.72727273e-05, 9.81818182e-05, 9.90909091e-05, 1.00000000e-04])},\n",
       "             return_train_score=True)"
      ]
     },
     "execution_count": 183,
     "metadata": {},
     "output_type": "execute_result"
    }
   ],
   "source": [
    "grid = GridSearchCV(estimator=lasso, param_grid={'alpha':alphas}, cv=10, return_train_score=True)\n",
    "grid.fit(Xtrain, ytrain)"
   ]
  },
  {
   "cell_type": "code",
   "execution_count": 184,
   "metadata": {},
   "outputs": [
    {
     "data": {
      "text/plain": [
       "0.9386733275959402"
      ]
     },
     "execution_count": 184,
     "metadata": {},
     "output_type": "execute_result"
    }
   ],
   "source": [
    "grid.score(Xtest,ytest)"
   ]
  },
  {
   "cell_type": "code",
   "execution_count": 185,
   "metadata": {},
   "outputs": [
    {
     "data": {
      "text/plain": [
       "0.9386733275959402"
      ]
     },
     "execution_count": 185,
     "metadata": {},
     "output_type": "execute_result"
    }
   ],
   "source": [
    "best_model = grid.best_estimator_\n",
    "best_model.score(Xtest, ytest)"
   ]
  },
  {
   "cell_type": "code",
   "execution_count": 186,
   "metadata": {},
   "outputs": [
    {
     "name": "stdout",
     "output_type": "stream",
     "text": [
      "0.9364631133010995\n",
      "{'alpha': 2.7272727272727276e-05}\n"
     ]
    }
   ],
   "source": [
    "print(grid.best_score_)\n",
    "print(grid.best_params_)"
   ]
  },
  {
   "cell_type": "code",
   "execution_count": 187,
   "metadata": {
    "scrolled": false
   },
   "outputs": [],
   "source": [
    "#print(grid.cv_results_.keys())\n",
    "#print(grid.cv_results_)"
   ]
  },
  {
   "cell_type": "code",
   "execution_count": 188,
   "metadata": {},
   "outputs": [
    {
     "data": {
      "text/html": [
       "<div>\n",
       "<style scoped>\n",
       "    .dataframe tbody tr th:only-of-type {\n",
       "        vertical-align: middle;\n",
       "    }\n",
       "\n",
       "    .dataframe tbody tr th {\n",
       "        vertical-align: top;\n",
       "    }\n",
       "\n",
       "    .dataframe thead th {\n",
       "        text-align: right;\n",
       "    }\n",
       "</style>\n",
       "<table border=\"1\" class=\"dataframe\">\n",
       "  <thead>\n",
       "    <tr style=\"text-align: right;\">\n",
       "      <th></th>\n",
       "      <th>mean_fit_time</th>\n",
       "      <th>std_fit_time</th>\n",
       "      <th>mean_score_time</th>\n",
       "      <th>std_score_time</th>\n",
       "      <th>param_alpha</th>\n",
       "      <th>params</th>\n",
       "      <th>split0_test_score</th>\n",
       "      <th>split1_test_score</th>\n",
       "      <th>split2_test_score</th>\n",
       "      <th>split3_test_score</th>\n",
       "      <th>split4_test_score</th>\n",
       "      <th>split5_test_score</th>\n",
       "      <th>split6_test_score</th>\n",
       "      <th>split7_test_score</th>\n",
       "      <th>split8_test_score</th>\n",
       "      <th>split9_test_score</th>\n",
       "      <th>mean_test_score</th>\n",
       "      <th>std_test_score</th>\n",
       "      <th>rank_test_score</th>\n",
       "      <th>split0_train_score</th>\n",
       "      <th>split1_train_score</th>\n",
       "      <th>split2_train_score</th>\n",
       "      <th>split3_train_score</th>\n",
       "      <th>split4_train_score</th>\n",
       "      <th>split5_train_score</th>\n",
       "      <th>split6_train_score</th>\n",
       "      <th>split7_train_score</th>\n",
       "      <th>split8_train_score</th>\n",
       "      <th>split9_train_score</th>\n",
       "      <th>mean_train_score</th>\n",
       "      <th>std_train_score</th>\n",
       "    </tr>\n",
       "  </thead>\n",
       "  <tbody>\n",
       "    <tr>\n",
       "      <th>0</th>\n",
       "      <td>0.011809</td>\n",
       "      <td>0.002368</td>\n",
       "      <td>0.003063</td>\n",
       "      <td>0.000630</td>\n",
       "      <td>1e-05</td>\n",
       "      <td>{'alpha': 1e-05}</td>\n",
       "      <td>0.941247</td>\n",
       "      <td>0.934020</td>\n",
       "      <td>0.942042</td>\n",
       "      <td>0.945140</td>\n",
       "      <td>0.950444</td>\n",
       "      <td>0.929089</td>\n",
       "      <td>0.933974</td>\n",
       "      <td>0.932701</td>\n",
       "      <td>0.920583</td>\n",
       "      <td>0.927502</td>\n",
       "      <td>0.935674</td>\n",
       "      <td>0.008554</td>\n",
       "      <td>48</td>\n",
       "      <td>0.948183</td>\n",
       "      <td>0.949209</td>\n",
       "      <td>0.947911</td>\n",
       "      <td>0.947508</td>\n",
       "      <td>0.947432</td>\n",
       "      <td>0.949377</td>\n",
       "      <td>0.948638</td>\n",
       "      <td>0.949357</td>\n",
       "      <td>0.950053</td>\n",
       "      <td>0.948847</td>\n",
       "      <td>0.948652</td>\n",
       "      <td>0.000831</td>\n",
       "    </tr>\n",
       "    <tr>\n",
       "      <th>1</th>\n",
       "      <td>0.010207</td>\n",
       "      <td>0.001074</td>\n",
       "      <td>0.002355</td>\n",
       "      <td>0.000272</td>\n",
       "      <td>1.09091e-05</td>\n",
       "      <td>{'alpha': 1.090909090909091e-05}</td>\n",
       "      <td>0.941313</td>\n",
       "      <td>0.934151</td>\n",
       "      <td>0.942090</td>\n",
       "      <td>0.945200</td>\n",
       "      <td>0.950494</td>\n",
       "      <td>0.929195</td>\n",
       "      <td>0.933977</td>\n",
       "      <td>0.932778</td>\n",
       "      <td>0.920675</td>\n",
       "      <td>0.927552</td>\n",
       "      <td>0.935742</td>\n",
       "      <td>0.008543</td>\n",
       "      <td>45</td>\n",
       "      <td>0.948121</td>\n",
       "      <td>0.949142</td>\n",
       "      <td>0.947851</td>\n",
       "      <td>0.947450</td>\n",
       "      <td>0.947375</td>\n",
       "      <td>0.949317</td>\n",
       "      <td>0.948590</td>\n",
       "      <td>0.949298</td>\n",
       "      <td>0.949997</td>\n",
       "      <td>0.948792</td>\n",
       "      <td>0.948593</td>\n",
       "      <td>0.000830</td>\n",
       "    </tr>\n",
       "    <tr>\n",
       "      <th>2</th>\n",
       "      <td>0.010383</td>\n",
       "      <td>0.000829</td>\n",
       "      <td>0.002601</td>\n",
       "      <td>0.000289</td>\n",
       "      <td>1.18182e-05</td>\n",
       "      <td>{'alpha': 1.1818181818181819e-05}</td>\n",
       "      <td>0.941370</td>\n",
       "      <td>0.934275</td>\n",
       "      <td>0.942146</td>\n",
       "      <td>0.945253</td>\n",
       "      <td>0.950542</td>\n",
       "      <td>0.929298</td>\n",
       "      <td>0.933968</td>\n",
       "      <td>0.932846</td>\n",
       "      <td>0.920746</td>\n",
       "      <td>0.927595</td>\n",
       "      <td>0.935804</td>\n",
       "      <td>0.008536</td>\n",
       "      <td>43</td>\n",
       "      <td>0.948054</td>\n",
       "      <td>0.949069</td>\n",
       "      <td>0.947788</td>\n",
       "      <td>0.947389</td>\n",
       "      <td>0.947317</td>\n",
       "      <td>0.949251</td>\n",
       "      <td>0.948538</td>\n",
       "      <td>0.949236</td>\n",
       "      <td>0.949946</td>\n",
       "      <td>0.948733</td>\n",
       "      <td>0.948532</td>\n",
       "      <td>0.000831</td>\n",
       "    </tr>\n",
       "    <tr>\n",
       "      <th>3</th>\n",
       "      <td>0.010770</td>\n",
       "      <td>0.000886</td>\n",
       "      <td>0.002510</td>\n",
       "      <td>0.000255</td>\n",
       "      <td>1.27273e-05</td>\n",
       "      <td>{'alpha': 1.2727272727272728e-05}</td>\n",
       "      <td>0.941420</td>\n",
       "      <td>0.934383</td>\n",
       "      <td>0.942262</td>\n",
       "      <td>0.945294</td>\n",
       "      <td>0.950585</td>\n",
       "      <td>0.929382</td>\n",
       "      <td>0.933953</td>\n",
       "      <td>0.932904</td>\n",
       "      <td>0.920810</td>\n",
       "      <td>0.927627</td>\n",
       "      <td>0.935862</td>\n",
       "      <td>0.008535</td>\n",
       "      <td>40</td>\n",
       "      <td>0.947982</td>\n",
       "      <td>0.948997</td>\n",
       "      <td>0.947729</td>\n",
       "      <td>0.947328</td>\n",
       "      <td>0.947253</td>\n",
       "      <td>0.949182</td>\n",
       "      <td>0.948481</td>\n",
       "      <td>0.949173</td>\n",
       "      <td>0.949894</td>\n",
       "      <td>0.948670</td>\n",
       "      <td>0.948469</td>\n",
       "      <td>0.000832</td>\n",
       "    </tr>\n",
       "    <tr>\n",
       "      <th>4</th>\n",
       "      <td>0.010566</td>\n",
       "      <td>0.001017</td>\n",
       "      <td>0.002337</td>\n",
       "      <td>0.000191</td>\n",
       "      <td>1.36364e-05</td>\n",
       "      <td>{'alpha': 1.3636363636363638e-05}</td>\n",
       "      <td>0.941446</td>\n",
       "      <td>0.934537</td>\n",
       "      <td>0.942401</td>\n",
       "      <td>0.945321</td>\n",
       "      <td>0.950620</td>\n",
       "      <td>0.929465</td>\n",
       "      <td>0.933938</td>\n",
       "      <td>0.932964</td>\n",
       "      <td>0.920859</td>\n",
       "      <td>0.927716</td>\n",
       "      <td>0.935927</td>\n",
       "      <td>0.008529</td>\n",
       "      <td>37</td>\n",
       "      <td>0.947914</td>\n",
       "      <td>0.948932</td>\n",
       "      <td>0.947672</td>\n",
       "      <td>0.947264</td>\n",
       "      <td>0.947187</td>\n",
       "      <td>0.949111</td>\n",
       "      <td>0.948421</td>\n",
       "      <td>0.949109</td>\n",
       "      <td>0.949838</td>\n",
       "      <td>0.948611</td>\n",
       "      <td>0.948406</td>\n",
       "      <td>0.000833</td>\n",
       "    </tr>\n",
       "    <tr>\n",
       "      <th>...</th>\n",
       "      <td>...</td>\n",
       "      <td>...</td>\n",
       "      <td>...</td>\n",
       "      <td>...</td>\n",
       "      <td>...</td>\n",
       "      <td>...</td>\n",
       "      <td>...</td>\n",
       "      <td>...</td>\n",
       "      <td>...</td>\n",
       "      <td>...</td>\n",
       "      <td>...</td>\n",
       "      <td>...</td>\n",
       "      <td>...</td>\n",
       "      <td>...</td>\n",
       "      <td>...</td>\n",
       "      <td>...</td>\n",
       "      <td>...</td>\n",
       "      <td>...</td>\n",
       "      <td>...</td>\n",
       "      <td>...</td>\n",
       "      <td>...</td>\n",
       "      <td>...</td>\n",
       "      <td>...</td>\n",
       "      <td>...</td>\n",
       "      <td>...</td>\n",
       "      <td>...</td>\n",
       "      <td>...</td>\n",
       "      <td>...</td>\n",
       "      <td>...</td>\n",
       "      <td>...</td>\n",
       "      <td>...</td>\n",
       "    </tr>\n",
       "    <tr>\n",
       "      <th>95</th>\n",
       "      <td>0.007646</td>\n",
       "      <td>0.000491</td>\n",
       "      <td>0.002556</td>\n",
       "      <td>0.000524</td>\n",
       "      <td>9.63636e-05</td>\n",
       "      <td>{'alpha': 9.636363636363637e-05}</td>\n",
       "      <td>0.937401</td>\n",
       "      <td>0.936226</td>\n",
       "      <td>0.943619</td>\n",
       "      <td>0.943114</td>\n",
       "      <td>0.949453</td>\n",
       "      <td>0.927434</td>\n",
       "      <td>0.927621</td>\n",
       "      <td>0.930259</td>\n",
       "      <td>0.917497</td>\n",
       "      <td>0.924233</td>\n",
       "      <td>0.933686</td>\n",
       "      <td>0.009463</td>\n",
       "      <td>96</td>\n",
       "      <td>0.940589</td>\n",
       "      <td>0.941867</td>\n",
       "      <td>0.940528</td>\n",
       "      <td>0.940334</td>\n",
       "      <td>0.940289</td>\n",
       "      <td>0.942393</td>\n",
       "      <td>0.941980</td>\n",
       "      <td>0.942217</td>\n",
       "      <td>0.943237</td>\n",
       "      <td>0.941838</td>\n",
       "      <td>0.941527</td>\n",
       "      <td>0.000970</td>\n",
       "    </tr>\n",
       "    <tr>\n",
       "      <th>96</th>\n",
       "      <td>0.007660</td>\n",
       "      <td>0.000535</td>\n",
       "      <td>0.002322</td>\n",
       "      <td>0.000538</td>\n",
       "      <td>9.72727e-05</td>\n",
       "      <td>{'alpha': 9.727272727272728e-05}</td>\n",
       "      <td>0.937301</td>\n",
       "      <td>0.936212</td>\n",
       "      <td>0.943608</td>\n",
       "      <td>0.943087</td>\n",
       "      <td>0.949440</td>\n",
       "      <td>0.927396</td>\n",
       "      <td>0.927570</td>\n",
       "      <td>0.930215</td>\n",
       "      <td>0.917454</td>\n",
       "      <td>0.924170</td>\n",
       "      <td>0.933645</td>\n",
       "      <td>0.009474</td>\n",
       "      <td>97</td>\n",
       "      <td>0.940513</td>\n",
       "      <td>0.941778</td>\n",
       "      <td>0.940443</td>\n",
       "      <td>0.940254</td>\n",
       "      <td>0.940213</td>\n",
       "      <td>0.942309</td>\n",
       "      <td>0.941905</td>\n",
       "      <td>0.942128</td>\n",
       "      <td>0.943155</td>\n",
       "      <td>0.941757</td>\n",
       "      <td>0.941445</td>\n",
       "      <td>0.000968</td>\n",
       "    </tr>\n",
       "    <tr>\n",
       "      <th>97</th>\n",
       "      <td>0.008610</td>\n",
       "      <td>0.001160</td>\n",
       "      <td>0.002445</td>\n",
       "      <td>0.000366</td>\n",
       "      <td>9.81818e-05</td>\n",
       "      <td>{'alpha': 9.818181818181818e-05}</td>\n",
       "      <td>0.937198</td>\n",
       "      <td>0.936196</td>\n",
       "      <td>0.943592</td>\n",
       "      <td>0.943060</td>\n",
       "      <td>0.949426</td>\n",
       "      <td>0.927355</td>\n",
       "      <td>0.927517</td>\n",
       "      <td>0.930170</td>\n",
       "      <td>0.917411</td>\n",
       "      <td>0.924107</td>\n",
       "      <td>0.933603</td>\n",
       "      <td>0.009484</td>\n",
       "      <td>98</td>\n",
       "      <td>0.940436</td>\n",
       "      <td>0.941690</td>\n",
       "      <td>0.940360</td>\n",
       "      <td>0.940173</td>\n",
       "      <td>0.940136</td>\n",
       "      <td>0.942225</td>\n",
       "      <td>0.941830</td>\n",
       "      <td>0.942039</td>\n",
       "      <td>0.943074</td>\n",
       "      <td>0.941674</td>\n",
       "      <td>0.941364</td>\n",
       "      <td>0.000966</td>\n",
       "    </tr>\n",
       "    <tr>\n",
       "      <th>98</th>\n",
       "      <td>0.007819</td>\n",
       "      <td>0.000576</td>\n",
       "      <td>0.002369</td>\n",
       "      <td>0.000254</td>\n",
       "      <td>9.90909e-05</td>\n",
       "      <td>{'alpha': 9.90909090909091e-05}</td>\n",
       "      <td>0.937094</td>\n",
       "      <td>0.936180</td>\n",
       "      <td>0.943574</td>\n",
       "      <td>0.943032</td>\n",
       "      <td>0.949413</td>\n",
       "      <td>0.927313</td>\n",
       "      <td>0.927462</td>\n",
       "      <td>0.930124</td>\n",
       "      <td>0.917369</td>\n",
       "      <td>0.924042</td>\n",
       "      <td>0.933560</td>\n",
       "      <td>0.009494</td>\n",
       "      <td>99</td>\n",
       "      <td>0.940360</td>\n",
       "      <td>0.941602</td>\n",
       "      <td>0.940282</td>\n",
       "      <td>0.940092</td>\n",
       "      <td>0.940062</td>\n",
       "      <td>0.942141</td>\n",
       "      <td>0.941754</td>\n",
       "      <td>0.941948</td>\n",
       "      <td>0.942993</td>\n",
       "      <td>0.941591</td>\n",
       "      <td>0.941283</td>\n",
       "      <td>0.000964</td>\n",
       "    </tr>\n",
       "    <tr>\n",
       "      <th>99</th>\n",
       "      <td>0.007611</td>\n",
       "      <td>0.000325</td>\n",
       "      <td>0.002274</td>\n",
       "      <td>0.000302</td>\n",
       "      <td>0.0001</td>\n",
       "      <td>{'alpha': 0.0001}</td>\n",
       "      <td>0.936989</td>\n",
       "      <td>0.936162</td>\n",
       "      <td>0.943554</td>\n",
       "      <td>0.943004</td>\n",
       "      <td>0.949399</td>\n",
       "      <td>0.927271</td>\n",
       "      <td>0.927409</td>\n",
       "      <td>0.930078</td>\n",
       "      <td>0.917326</td>\n",
       "      <td>0.923976</td>\n",
       "      <td>0.933517</td>\n",
       "      <td>0.009504</td>\n",
       "      <td>100</td>\n",
       "      <td>0.940282</td>\n",
       "      <td>0.941513</td>\n",
       "      <td>0.940203</td>\n",
       "      <td>0.940010</td>\n",
       "      <td>0.939989</td>\n",
       "      <td>0.942057</td>\n",
       "      <td>0.941679</td>\n",
       "      <td>0.941857</td>\n",
       "      <td>0.942912</td>\n",
       "      <td>0.941507</td>\n",
       "      <td>0.941201</td>\n",
       "      <td>0.000961</td>\n",
       "    </tr>\n",
       "  </tbody>\n",
       "</table>\n",
       "<p>100 rows × 31 columns</p>\n",
       "</div>"
      ],
      "text/plain": [
       "    mean_fit_time  std_fit_time  mean_score_time  std_score_time  param_alpha  \\\n",
       "0        0.011809      0.002368         0.003063        0.000630        1e-05   \n",
       "1        0.010207      0.001074         0.002355        0.000272  1.09091e-05   \n",
       "2        0.010383      0.000829         0.002601        0.000289  1.18182e-05   \n",
       "3        0.010770      0.000886         0.002510        0.000255  1.27273e-05   \n",
       "4        0.010566      0.001017         0.002337        0.000191  1.36364e-05   \n",
       "..            ...           ...              ...             ...          ...   \n",
       "95       0.007646      0.000491         0.002556        0.000524  9.63636e-05   \n",
       "96       0.007660      0.000535         0.002322        0.000538  9.72727e-05   \n",
       "97       0.008610      0.001160         0.002445        0.000366  9.81818e-05   \n",
       "98       0.007819      0.000576         0.002369        0.000254  9.90909e-05   \n",
       "99       0.007611      0.000325         0.002274        0.000302       0.0001   \n",
       "\n",
       "                               params  split0_test_score  split1_test_score  \\\n",
       "0                    {'alpha': 1e-05}           0.941247           0.934020   \n",
       "1    {'alpha': 1.090909090909091e-05}           0.941313           0.934151   \n",
       "2   {'alpha': 1.1818181818181819e-05}           0.941370           0.934275   \n",
       "3   {'alpha': 1.2727272727272728e-05}           0.941420           0.934383   \n",
       "4   {'alpha': 1.3636363636363638e-05}           0.941446           0.934537   \n",
       "..                                ...                ...                ...   \n",
       "95   {'alpha': 9.636363636363637e-05}           0.937401           0.936226   \n",
       "96   {'alpha': 9.727272727272728e-05}           0.937301           0.936212   \n",
       "97   {'alpha': 9.818181818181818e-05}           0.937198           0.936196   \n",
       "98    {'alpha': 9.90909090909091e-05}           0.937094           0.936180   \n",
       "99                  {'alpha': 0.0001}           0.936989           0.936162   \n",
       "\n",
       "    split2_test_score  split3_test_score  split4_test_score  \\\n",
       "0            0.942042           0.945140           0.950444   \n",
       "1            0.942090           0.945200           0.950494   \n",
       "2            0.942146           0.945253           0.950542   \n",
       "3            0.942262           0.945294           0.950585   \n",
       "4            0.942401           0.945321           0.950620   \n",
       "..                ...                ...                ...   \n",
       "95           0.943619           0.943114           0.949453   \n",
       "96           0.943608           0.943087           0.949440   \n",
       "97           0.943592           0.943060           0.949426   \n",
       "98           0.943574           0.943032           0.949413   \n",
       "99           0.943554           0.943004           0.949399   \n",
       "\n",
       "    split5_test_score  split6_test_score  split7_test_score  \\\n",
       "0            0.929089           0.933974           0.932701   \n",
       "1            0.929195           0.933977           0.932778   \n",
       "2            0.929298           0.933968           0.932846   \n",
       "3            0.929382           0.933953           0.932904   \n",
       "4            0.929465           0.933938           0.932964   \n",
       "..                ...                ...                ...   \n",
       "95           0.927434           0.927621           0.930259   \n",
       "96           0.927396           0.927570           0.930215   \n",
       "97           0.927355           0.927517           0.930170   \n",
       "98           0.927313           0.927462           0.930124   \n",
       "99           0.927271           0.927409           0.930078   \n",
       "\n",
       "    split8_test_score  split9_test_score  mean_test_score  std_test_score  \\\n",
       "0            0.920583           0.927502         0.935674        0.008554   \n",
       "1            0.920675           0.927552         0.935742        0.008543   \n",
       "2            0.920746           0.927595         0.935804        0.008536   \n",
       "3            0.920810           0.927627         0.935862        0.008535   \n",
       "4            0.920859           0.927716         0.935927        0.008529   \n",
       "..                ...                ...              ...             ...   \n",
       "95           0.917497           0.924233         0.933686        0.009463   \n",
       "96           0.917454           0.924170         0.933645        0.009474   \n",
       "97           0.917411           0.924107         0.933603        0.009484   \n",
       "98           0.917369           0.924042         0.933560        0.009494   \n",
       "99           0.917326           0.923976         0.933517        0.009504   \n",
       "\n",
       "    rank_test_score  split0_train_score  split1_train_score  \\\n",
       "0                48            0.948183            0.949209   \n",
       "1                45            0.948121            0.949142   \n",
       "2                43            0.948054            0.949069   \n",
       "3                40            0.947982            0.948997   \n",
       "4                37            0.947914            0.948932   \n",
       "..              ...                 ...                 ...   \n",
       "95               96            0.940589            0.941867   \n",
       "96               97            0.940513            0.941778   \n",
       "97               98            0.940436            0.941690   \n",
       "98               99            0.940360            0.941602   \n",
       "99              100            0.940282            0.941513   \n",
       "\n",
       "    split2_train_score  split3_train_score  split4_train_score  \\\n",
       "0             0.947911            0.947508            0.947432   \n",
       "1             0.947851            0.947450            0.947375   \n",
       "2             0.947788            0.947389            0.947317   \n",
       "3             0.947729            0.947328            0.947253   \n",
       "4             0.947672            0.947264            0.947187   \n",
       "..                 ...                 ...                 ...   \n",
       "95            0.940528            0.940334            0.940289   \n",
       "96            0.940443            0.940254            0.940213   \n",
       "97            0.940360            0.940173            0.940136   \n",
       "98            0.940282            0.940092            0.940062   \n",
       "99            0.940203            0.940010            0.939989   \n",
       "\n",
       "    split5_train_score  split6_train_score  split7_train_score  \\\n",
       "0             0.949377            0.948638            0.949357   \n",
       "1             0.949317            0.948590            0.949298   \n",
       "2             0.949251            0.948538            0.949236   \n",
       "3             0.949182            0.948481            0.949173   \n",
       "4             0.949111            0.948421            0.949109   \n",
       "..                 ...                 ...                 ...   \n",
       "95            0.942393            0.941980            0.942217   \n",
       "96            0.942309            0.941905            0.942128   \n",
       "97            0.942225            0.941830            0.942039   \n",
       "98            0.942141            0.941754            0.941948   \n",
       "99            0.942057            0.941679            0.941857   \n",
       "\n",
       "    split8_train_score  split9_train_score  mean_train_score  std_train_score  \n",
       "0             0.950053            0.948847          0.948652         0.000831  \n",
       "1             0.949997            0.948792          0.948593         0.000830  \n",
       "2             0.949946            0.948733          0.948532         0.000831  \n",
       "3             0.949894            0.948670          0.948469         0.000832  \n",
       "4             0.949838            0.948611          0.948406         0.000833  \n",
       "..                 ...                 ...               ...              ...  \n",
       "95            0.943237            0.941838          0.941527         0.000970  \n",
       "96            0.943155            0.941757          0.941445         0.000968  \n",
       "97            0.943074            0.941674          0.941364         0.000966  \n",
       "98            0.942993            0.941591          0.941283         0.000964  \n",
       "99            0.942912            0.941507          0.941201         0.000961  \n",
       "\n",
       "[100 rows x 31 columns]"
      ]
     },
     "execution_count": 188,
     "metadata": {},
     "output_type": "execute_result"
    }
   ],
   "source": [
    "cv_results = pd.DataFrame(grid.cv_results_)\n",
    "cv_results"
   ]
  },
  {
   "cell_type": "code",
   "execution_count": 190,
   "metadata": {
    "scrolled": true
   },
   "outputs": [
    {
     "data": {
      "text/html": [
       "<div>\n",
       "<style scoped>\n",
       "    .dataframe tbody tr th:only-of-type {\n",
       "        vertical-align: middle;\n",
       "    }\n",
       "\n",
       "    .dataframe tbody tr th {\n",
       "        vertical-align: top;\n",
       "    }\n",
       "\n",
       "    .dataframe thead th {\n",
       "        text-align: right;\n",
       "    }\n",
       "</style>\n",
       "<table border=\"1\" class=\"dataframe\">\n",
       "  <thead>\n",
       "    <tr style=\"text-align: right;\">\n",
       "      <th></th>\n",
       "      <th>mean_fit_time</th>\n",
       "      <th>std_fit_time</th>\n",
       "      <th>mean_score_time</th>\n",
       "      <th>std_score_time</th>\n",
       "      <th>param_alpha</th>\n",
       "      <th>params</th>\n",
       "      <th>split0_test_score</th>\n",
       "      <th>split1_test_score</th>\n",
       "      <th>split2_test_score</th>\n",
       "      <th>split3_test_score</th>\n",
       "      <th>split4_test_score</th>\n",
       "      <th>split5_test_score</th>\n",
       "      <th>split6_test_score</th>\n",
       "      <th>split7_test_score</th>\n",
       "      <th>split8_test_score</th>\n",
       "      <th>split9_test_score</th>\n",
       "      <th>mean_test_score</th>\n",
       "      <th>std_test_score</th>\n",
       "      <th>rank_test_score</th>\n",
       "      <th>split0_train_score</th>\n",
       "      <th>split1_train_score</th>\n",
       "      <th>split2_train_score</th>\n",
       "      <th>split3_train_score</th>\n",
       "      <th>split4_train_score</th>\n",
       "      <th>split5_train_score</th>\n",
       "      <th>split6_train_score</th>\n",
       "      <th>split7_train_score</th>\n",
       "      <th>split8_train_score</th>\n",
       "      <th>split9_train_score</th>\n",
       "      <th>mean_train_score</th>\n",
       "      <th>std_train_score</th>\n",
       "    </tr>\n",
       "  </thead>\n",
       "  <tbody>\n",
       "    <tr>\n",
       "      <th>19</th>\n",
       "      <td>0.009287</td>\n",
       "      <td>0.000688</td>\n",
       "      <td>0.002486</td>\n",
       "      <td>0.000410</td>\n",
       "      <td>2.72727e-05</td>\n",
       "      <td>{'alpha': 2.7272727272727276e-05}</td>\n",
       "      <td>0.942214</td>\n",
       "      <td>0.936050</td>\n",
       "      <td>0.943900</td>\n",
       "      <td>0.945037</td>\n",
       "      <td>0.951098</td>\n",
       "      <td>0.930140</td>\n",
       "      <td>0.933180</td>\n",
       "      <td>0.933169</td>\n",
       "      <td>0.921313</td>\n",
       "      <td>0.928530</td>\n",
       "      <td>0.936463</td>\n",
       "      <td>0.008546</td>\n",
       "      <td>1</td>\n",
       "      <td>0.947042</td>\n",
       "      <td>0.947911</td>\n",
       "      <td>0.946755</td>\n",
       "      <td>0.946151</td>\n",
       "      <td>0.946250</td>\n",
       "      <td>0.948108</td>\n",
       "      <td>0.947521</td>\n",
       "      <td>0.948175</td>\n",
       "      <td>0.948970</td>\n",
       "      <td>0.947573</td>\n",
       "      <td>0.947446</td>\n",
       "      <td>0.000853</td>\n",
       "    </tr>\n",
       "    <tr>\n",
       "      <th>18</th>\n",
       "      <td>0.009077</td>\n",
       "      <td>0.000454</td>\n",
       "      <td>0.002258</td>\n",
       "      <td>0.000199</td>\n",
       "      <td>2.63636e-05</td>\n",
       "      <td>{'alpha': 2.6363636363636365e-05}</td>\n",
       "      <td>0.942183</td>\n",
       "      <td>0.935971</td>\n",
       "      <td>0.943815</td>\n",
       "      <td>0.945101</td>\n",
       "      <td>0.951098</td>\n",
       "      <td>0.930132</td>\n",
       "      <td>0.933271</td>\n",
       "      <td>0.933172</td>\n",
       "      <td>0.921316</td>\n",
       "      <td>0.928533</td>\n",
       "      <td>0.936459</td>\n",
       "      <td>0.008539</td>\n",
       "      <td>2</td>\n",
       "      <td>0.947103</td>\n",
       "      <td>0.947979</td>\n",
       "      <td>0.946821</td>\n",
       "      <td>0.946212</td>\n",
       "      <td>0.946313</td>\n",
       "      <td>0.948176</td>\n",
       "      <td>0.947582</td>\n",
       "      <td>0.948237</td>\n",
       "      <td>0.949030</td>\n",
       "      <td>0.947637</td>\n",
       "      <td>0.947509</td>\n",
       "      <td>0.000853</td>\n",
       "    </tr>\n",
       "    <tr>\n",
       "      <th>20</th>\n",
       "      <td>0.009313</td>\n",
       "      <td>0.000801</td>\n",
       "      <td>0.002304</td>\n",
       "      <td>0.000358</td>\n",
       "      <td>2.81818e-05</td>\n",
       "      <td>{'alpha': 2.818181818181818e-05}</td>\n",
       "      <td>0.942243</td>\n",
       "      <td>0.936119</td>\n",
       "      <td>0.943974</td>\n",
       "      <td>0.944975</td>\n",
       "      <td>0.951097</td>\n",
       "      <td>0.930117</td>\n",
       "      <td>0.933082</td>\n",
       "      <td>0.933160</td>\n",
       "      <td>0.921313</td>\n",
       "      <td>0.928511</td>\n",
       "      <td>0.936459</td>\n",
       "      <td>0.008555</td>\n",
       "      <td>3</td>\n",
       "      <td>0.946978</td>\n",
       "      <td>0.947843</td>\n",
       "      <td>0.946690</td>\n",
       "      <td>0.946089</td>\n",
       "      <td>0.946187</td>\n",
       "      <td>0.948044</td>\n",
       "      <td>0.947459</td>\n",
       "      <td>0.948113</td>\n",
       "      <td>0.948911</td>\n",
       "      <td>0.947515</td>\n",
       "      <td>0.947383</td>\n",
       "      <td>0.000854</td>\n",
       "    </tr>\n",
       "    <tr>\n",
       "      <th>21</th>\n",
       "      <td>0.008911</td>\n",
       "      <td>0.000258</td>\n",
       "      <td>0.002242</td>\n",
       "      <td>0.000241</td>\n",
       "      <td>2.90909e-05</td>\n",
       "      <td>{'alpha': 2.9090909090909093e-05}</td>\n",
       "      <td>0.942272</td>\n",
       "      <td>0.936154</td>\n",
       "      <td>0.944033</td>\n",
       "      <td>0.944921</td>\n",
       "      <td>0.951097</td>\n",
       "      <td>0.930092</td>\n",
       "      <td>0.932980</td>\n",
       "      <td>0.933151</td>\n",
       "      <td>0.921307</td>\n",
       "      <td>0.928485</td>\n",
       "      <td>0.936449</td>\n",
       "      <td>0.008567</td>\n",
       "      <td>4</td>\n",
       "      <td>0.946913</td>\n",
       "      <td>0.947778</td>\n",
       "      <td>0.946627</td>\n",
       "      <td>0.946025</td>\n",
       "      <td>0.946122</td>\n",
       "      <td>0.947978</td>\n",
       "      <td>0.947395</td>\n",
       "      <td>0.948050</td>\n",
       "      <td>0.948851</td>\n",
       "      <td>0.947455</td>\n",
       "      <td>0.947319</td>\n",
       "      <td>0.000854</td>\n",
       "    </tr>\n",
       "    <tr>\n",
       "      <th>17</th>\n",
       "      <td>0.009224</td>\n",
       "      <td>0.000531</td>\n",
       "      <td>0.002423</td>\n",
       "      <td>0.000287</td>\n",
       "      <td>2.54545e-05</td>\n",
       "      <td>{'alpha': 2.5454545454545454e-05}</td>\n",
       "      <td>0.942149</td>\n",
       "      <td>0.935893</td>\n",
       "      <td>0.943725</td>\n",
       "      <td>0.945166</td>\n",
       "      <td>0.951096</td>\n",
       "      <td>0.930103</td>\n",
       "      <td>0.933358</td>\n",
       "      <td>0.933178</td>\n",
       "      <td>0.921315</td>\n",
       "      <td>0.928508</td>\n",
       "      <td>0.936449</td>\n",
       "      <td>0.008537</td>\n",
       "      <td>5</td>\n",
       "      <td>0.947163</td>\n",
       "      <td>0.948047</td>\n",
       "      <td>0.946885</td>\n",
       "      <td>0.946274</td>\n",
       "      <td>0.946373</td>\n",
       "      <td>0.948246</td>\n",
       "      <td>0.947641</td>\n",
       "      <td>0.948303</td>\n",
       "      <td>0.949090</td>\n",
       "      <td>0.947714</td>\n",
       "      <td>0.947573</td>\n",
       "      <td>0.000855</td>\n",
       "    </tr>\n",
       "  </tbody>\n",
       "</table>\n",
       "</div>"
      ],
      "text/plain": [
       "    mean_fit_time  std_fit_time  mean_score_time  std_score_time  param_alpha  \\\n",
       "19       0.009287      0.000688         0.002486        0.000410  2.72727e-05   \n",
       "18       0.009077      0.000454         0.002258        0.000199  2.63636e-05   \n",
       "20       0.009313      0.000801         0.002304        0.000358  2.81818e-05   \n",
       "21       0.008911      0.000258         0.002242        0.000241  2.90909e-05   \n",
       "17       0.009224      0.000531         0.002423        0.000287  2.54545e-05   \n",
       "\n",
       "                               params  split0_test_score  split1_test_score  \\\n",
       "19  {'alpha': 2.7272727272727276e-05}           0.942214           0.936050   \n",
       "18  {'alpha': 2.6363636363636365e-05}           0.942183           0.935971   \n",
       "20   {'alpha': 2.818181818181818e-05}           0.942243           0.936119   \n",
       "21  {'alpha': 2.9090909090909093e-05}           0.942272           0.936154   \n",
       "17  {'alpha': 2.5454545454545454e-05}           0.942149           0.935893   \n",
       "\n",
       "    split2_test_score  split3_test_score  split4_test_score  \\\n",
       "19           0.943900           0.945037           0.951098   \n",
       "18           0.943815           0.945101           0.951098   \n",
       "20           0.943974           0.944975           0.951097   \n",
       "21           0.944033           0.944921           0.951097   \n",
       "17           0.943725           0.945166           0.951096   \n",
       "\n",
       "    split5_test_score  split6_test_score  split7_test_score  \\\n",
       "19           0.930140           0.933180           0.933169   \n",
       "18           0.930132           0.933271           0.933172   \n",
       "20           0.930117           0.933082           0.933160   \n",
       "21           0.930092           0.932980           0.933151   \n",
       "17           0.930103           0.933358           0.933178   \n",
       "\n",
       "    split8_test_score  split9_test_score  mean_test_score  std_test_score  \\\n",
       "19           0.921313           0.928530         0.936463        0.008546   \n",
       "18           0.921316           0.928533         0.936459        0.008539   \n",
       "20           0.921313           0.928511         0.936459        0.008555   \n",
       "21           0.921307           0.928485         0.936449        0.008567   \n",
       "17           0.921315           0.928508         0.936449        0.008537   \n",
       "\n",
       "    rank_test_score  split0_train_score  split1_train_score  \\\n",
       "19                1            0.947042            0.947911   \n",
       "18                2            0.947103            0.947979   \n",
       "20                3            0.946978            0.947843   \n",
       "21                4            0.946913            0.947778   \n",
       "17                5            0.947163            0.948047   \n",
       "\n",
       "    split2_train_score  split3_train_score  split4_train_score  \\\n",
       "19            0.946755            0.946151            0.946250   \n",
       "18            0.946821            0.946212            0.946313   \n",
       "20            0.946690            0.946089            0.946187   \n",
       "21            0.946627            0.946025            0.946122   \n",
       "17            0.946885            0.946274            0.946373   \n",
       "\n",
       "    split5_train_score  split6_train_score  split7_train_score  \\\n",
       "19            0.948108            0.947521            0.948175   \n",
       "18            0.948176            0.947582            0.948237   \n",
       "20            0.948044            0.947459            0.948113   \n",
       "21            0.947978            0.947395            0.948050   \n",
       "17            0.948246            0.947641            0.948303   \n",
       "\n",
       "    split8_train_score  split9_train_score  mean_train_score  std_train_score  \n",
       "19            0.948970            0.947573          0.947446         0.000853  \n",
       "18            0.949030            0.947637          0.947509         0.000853  \n",
       "20            0.948911            0.947515          0.947383         0.000854  \n",
       "21            0.948851            0.947455          0.947319         0.000854  \n",
       "17            0.949090            0.947714          0.947573         0.000855  "
      ]
     },
     "execution_count": 190,
     "metadata": {},
     "output_type": "execute_result"
    }
   ],
   "source": [
    "cv_results.sort_values('mean_test_score', ascending=False).head(5)\n",
    "# look for the best test set performance"
   ]
  },
  {
   "cell_type": "code",
   "execution_count": 191,
   "metadata": {},
   "outputs": [
    {
     "data": {
      "text/plain": [
       "<matplotlib.legend.Legend at 0x7f8e17811fa0>"
      ]
     },
     "execution_count": 191,
     "metadata": {},
     "output_type": "execute_result"
    },
    {
     "data": {
      "image/png": "[encoded data removed]",
      "text/plain": [
       "<Figure size 432x288 with 1 Axes>"
      ]
     },
     "metadata": {
      "needs_background": "light"
     },
     "output_type": "display_data"
    }
   ],
   "source": [
    "cv_results['mean_train_score'].plot(label='mean train score')\n",
    "cv_results['mean_test_score'].plot(label='mean test score')\n",
    "plt.legend(loc=1)"
   ]
  },
  {
   "cell_type": "markdown",
   "metadata": {},
   "source": [
    "### Lasso model (user provides alpha)"
   ]
  },
  {
   "cell_type": "code",
   "execution_count": 201,
   "metadata": {},
   "outputs": [
    {
     "data": {
      "text/plain": [
       "{'alpha': 2.72727e-05,\n",
       " 'copy_X': True,\n",
       " 'fit_intercept': True,\n",
       " 'max_iter': 1000,\n",
       " 'normalize': True,\n",
       " 'positive': False,\n",
       " 'precompute': False,\n",
       " 'random_state': None,\n",
       " 'selection': 'cyclic',\n",
       " 'tol': 0.0001,\n",
       " 'warm_start': False}"
      ]
     },
     "execution_count": 201,
     "metadata": {},
     "output_type": "execute_result"
    }
   ],
   "source": [
    "lasso2 = Lasso(alpha=2.72727e-05, normalize=True)\n",
    "lasso2.get_params()"
   ]
  },
  {
   "cell_type": "code",
   "execution_count": 202,
   "metadata": {},
   "outputs": [
    {
     "data": {
      "text/plain": [
       "Lasso(alpha=2.72727e-05, normalize=True)"
      ]
     },
     "execution_count": 202,
     "metadata": {},
     "output_type": "execute_result"
    }
   ],
   "source": [
    "lasso2.fit(Xtrain,ytrain)"
   ]
  },
  {
   "cell_type": "code",
   "execution_count": 203,
   "metadata": {},
   "outputs": [
    {
     "name": "stdout",
     "output_type": "stream",
     "text": [
      "Train score:  0.9468465951027093\n",
      "Test score:  0.9386733289753716\n"
     ]
    }
   ],
   "source": [
    "print('Train score: ', lasso2.score(Xtrain,ytrain))\n",
    "print('Test score: ', lasso2.score(Xtest,ytest))"
   ]
  },
  {
   "cell_type": "code",
   "execution_count": 204,
   "metadata": {},
   "outputs": [
    {
     "data": {
      "text/plain": [
       "0.9386733289753716"
      ]
     },
     "execution_count": 204,
     "metadata": {},
     "output_type": "execute_result"
    }
   ],
   "source": [
    "lasso2.score(Xtest,ytest)"
   ]
  },
  {
   "cell_type": "code",
   "execution_count": 205,
   "metadata": {},
   "outputs": [
    {
     "name": "stdout",
     "output_type": "stream",
     "text": [
      "the intercept is: 2.59\n"
     ]
    }
   ],
   "source": [
    "print('the intercept is: %.2f' %(lasso2.intercept_))\n",
    "coefs = pd.Series(lasso2.coef_, index=housefeature.columns)"
   ]
  },
  {
   "cell_type": "code",
   "execution_count": 206,
   "metadata": {},
   "outputs": [
    {
     "data": {
      "text/plain": [
       "GrLivArea_Log           0.404205\n",
       "Exterior1st__PreCast    0.318719\n",
       "Utilities               0.150549\n",
       "Exterior1st__BrkComm    0.084456\n",
       "LotArea_Log             0.082512\n",
       "Exterior1st__BrkFace    0.066108\n",
       "OverallQual             0.056340\n",
       "HouseStyle__1.5Unf      0.046301\n",
       "MSZoning__FV            0.042343\n",
       "MSSubClass__75          0.041966\n",
       "GarageCars              0.041196\n",
       "OverallCond             0.038564\n",
       "HouseStyle__SFoyer      0.035083\n",
       "Fireplaces              0.030252\n",
       "MSSubClass__120         0.029909\n",
       "CentralAir              0.024534\n",
       "KitchenQual             0.023700\n",
       "Foundation__Slab        0.022948\n",
       "Exterior1st__Stucco     0.020705\n",
       "Street_Paved            0.020473\n",
       "Condition1__PosN        0.018421\n",
       "Foundation__PConc       0.016506\n",
       "MSSubClass__70          0.013162\n",
       "PavedDrive              0.010517\n",
       "GarageFinish__Fin       0.008518\n",
       "Exterior1st__MetalSd    0.008354\n",
       "BsmtExposure            0.007718\n",
       "GarageType__BuiltIn     0.007478\n",
       "HeatingQC               0.007420\n",
       "ExterQual               0.006265\n",
       "dtype: float64"
      ]
     },
     "execution_count": 206,
     "metadata": {},
     "output_type": "execute_result"
    }
   ],
   "source": [
    "coefs.sort_values(ascending=False).head(30)"
   ]
  },
  {
   "cell_type": "markdown",
   "metadata": {},
   "source": [
    "### Calculate RMSE"
   ]
  },
  {
   "cell_type": "code",
   "execution_count": 207,
   "metadata": {},
   "outputs": [
    {
     "data": {
      "text/plain": [
       "0.008742753835669631"
      ]
     },
     "execution_count": 207,
     "metadata": {},
     "output_type": "execute_result"
    }
   ],
   "source": [
    "mse = np.mean((lasso2.predict(Xtest)-ytest)**2)\n",
    "mse"
   ]
  },
  {
   "cell_type": "code",
   "execution_count": 208,
   "metadata": {},
   "outputs": [
    {
     "data": {
      "text/plain": [
       "0.0935026942695751"
      ]
     },
     "execution_count": 208,
     "metadata": {},
     "output_type": "execute_result"
    }
   ],
   "source": [
    "RMSE = np.sqrt(mse)\n",
    "RMSE"
   ]
  },
  {
   "cell_type": "markdown",
   "metadata": {},
   "source": [
    "### Using `cross_val_score`"
   ]
  },
  {
   "cell_type": "code",
   "execution_count": 209,
   "metadata": {},
   "outputs": [],
   "source": [
    "import sklearn.model_selection as ms\n",
    "scores = ms.cross_val_score(estimator=lasso2, X=Xtrain, y=ytrain, cv=5)\n",
    "scores = pd.Series(scores)"
   ]
  },
  {
   "cell_type": "code",
   "execution_count": 210,
   "metadata": {},
   "outputs": [
    {
     "name": "stdout",
     "output_type": "stream",
     "text": [
      "0    0.937\n",
      "1    0.945\n",
      "2    0.940\n",
      "3    0.933\n",
      "4    0.925\n",
      "dtype: float64\n",
      "----------------------------------------\n",
      "Score Mean 0.936\n",
      "Score std deviation: 0.008\n"
     ]
    }
   ],
   "source": [
    "print(scores.round(3))\n",
    "print('-'*40)\n",
    "print('Score Mean %.3f' %(scores.mean()))\n",
    "print('Score std deviation: %.3f' %(scores.std()))"
   ]
  },
  {
   "cell_type": "code",
   "execution_count": null,
   "metadata": {},
   "outputs": [],
   "source": []
  },
  {
   "cell_type": "code",
   "execution_count": null,
   "metadata": {},
   "outputs": [],
   "source": []
  }
 ],
 "metadata": {
  "kernelspec": {
   "display_name": "Python 3",
   "language": "python",
   "name": "python3"
  },
  "language_info": {
   "codemirror_mode": {
    "name": "ipython",
    "version": 3
   },
   "file_extension": ".py",
   "mimetype": "text/x-python",
   "name": "python",
   "nbconvert_exporter": "python",
   "pygments_lexer": "ipython3",
   "version": "3.8.5"
  }
 },
 "nbformat": 4,
 "nbformat_minor": 4
}
