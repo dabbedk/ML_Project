{
 "cells": [
  {
   "cell_type": "code",
   "execution_count": 2,
   "metadata": {},
   "outputs": [],
   "source": [
    "import pandas as pd\n",
    "import numpy as np\n",
    "import matplotlib.pyplot as plt"
   ]
  },
  {
   "cell_type": "code",
   "execution_count": 3,
   "metadata": {},
   "outputs": [],
   "source": [
    "housing = pd.read_csv('data/Ames_Housing_Price_Data.csv')"
   ]
  },
  {
   "cell_type": "markdown",
   "metadata": {},
   "source": [
    "### My Columns"
   ]
  },
  {
   "cell_type": "code",
   "execution_count": 4,
   "metadata": {},
   "outputs": [],
   "source": [
    "housing = housing[['SalePrice',\n",
    "'BsmtFullBath',\n",
    "'BsmtHalfBath',\n",
    "'FullBath',\n",
    "'HalfBath',\n",
    "'BedroomAbvGr',\n",
    "'KitchenAbvGr',\n",
    "'KitchenQual',\n",
    "'TotRmsAbvGrd',\n",
    "'Functional',\n",
    "'Fireplaces',\n",
    "'FireplaceQu',\n",
    "'GarageType',\n",
    "'GarageFinish',\n",
    "'GarageCars',\n",
    "'GarageArea',\n",
    "'GarageQual',\n",
    "'GarageCond',\n",
    "'PavedDrive',\n",
    "'WoodDeckSF',\n",
    "'OpenPorchSF',\n",
    "'EnclosedPorch',\n",
    "'3SsnPorch',\n",
    "'ScreenPorch']]"
   ]
  },
  {
   "cell_type": "code",
   "execution_count": 5,
   "metadata": {
    "scrolled": true
   },
   "outputs": [
    {
     "data": {
      "text/html": [
       "<div>\n",
       "<style scoped>\n",
       "    .dataframe tbody tr th:only-of-type {\n",
       "        vertical-align: middle;\n",
       "    }\n",
       "\n",
       "    .dataframe tbody tr th {\n",
       "        vertical-align: top;\n",
       "    }\n",
       "\n",
       "    .dataframe thead th {\n",
       "        text-align: right;\n",
       "    }\n",
       "</style>\n",
       "<table border=\"1\" class=\"dataframe\">\n",
       "  <thead>\n",
       "    <tr style=\"text-align: right;\">\n",
       "      <th></th>\n",
       "      <th>SalePrice</th>\n",
       "      <th>BsmtFullBath</th>\n",
       "      <th>BsmtHalfBath</th>\n",
       "      <th>FullBath</th>\n",
       "      <th>HalfBath</th>\n",
       "      <th>BedroomAbvGr</th>\n",
       "      <th>KitchenAbvGr</th>\n",
       "      <th>KitchenQual</th>\n",
       "      <th>TotRmsAbvGrd</th>\n",
       "      <th>Functional</th>\n",
       "      <th>...</th>\n",
       "      <th>GarageCars</th>\n",
       "      <th>GarageArea</th>\n",
       "      <th>GarageQual</th>\n",
       "      <th>GarageCond</th>\n",
       "      <th>PavedDrive</th>\n",
       "      <th>WoodDeckSF</th>\n",
       "      <th>OpenPorchSF</th>\n",
       "      <th>EnclosedPorch</th>\n",
       "      <th>3SsnPorch</th>\n",
       "      <th>ScreenPorch</th>\n",
       "    </tr>\n",
       "  </thead>\n",
       "  <tbody>\n",
       "    <tr>\n",
       "      <th>2475</th>\n",
       "      <td>105000</td>\n",
       "      <td>1.0</td>\n",
       "      <td>0.0</td>\n",
       "      <td>1</td>\n",
       "      <td>0</td>\n",
       "      <td>2</td>\n",
       "      <td>1</td>\n",
       "      <td>TA</td>\n",
       "      <td>5</td>\n",
       "      <td>Typ</td>\n",
       "      <td>...</td>\n",
       "      <td>1.0</td>\n",
       "      <td>180.0</td>\n",
       "      <td>Fa</td>\n",
       "      <td>TA</td>\n",
       "      <td>Y</td>\n",
       "      <td>48</td>\n",
       "      <td>0</td>\n",
       "      <td>0</td>\n",
       "      <td>0</td>\n",
       "      <td>0</td>\n",
       "    </tr>\n",
       "    <tr>\n",
       "      <th>1144</th>\n",
       "      <td>462000</td>\n",
       "      <td>1.0</td>\n",
       "      <td>0.0</td>\n",
       "      <td>3</td>\n",
       "      <td>1</td>\n",
       "      <td>4</td>\n",
       "      <td>1</td>\n",
       "      <td>Ex</td>\n",
       "      <td>10</td>\n",
       "      <td>Typ</td>\n",
       "      <td>...</td>\n",
       "      <td>3.0</td>\n",
       "      <td>754.0</td>\n",
       "      <td>TA</td>\n",
       "      <td>TA</td>\n",
       "      <td>Y</td>\n",
       "      <td>135</td>\n",
       "      <td>64</td>\n",
       "      <td>0</td>\n",
       "      <td>0</td>\n",
       "      <td>0</td>\n",
       "    </tr>\n",
       "    <tr>\n",
       "      <th>1495</th>\n",
       "      <td>248000</td>\n",
       "      <td>0.0</td>\n",
       "      <td>0.0</td>\n",
       "      <td>2</td>\n",
       "      <td>1</td>\n",
       "      <td>4</td>\n",
       "      <td>1</td>\n",
       "      <td>Gd</td>\n",
       "      <td>8</td>\n",
       "      <td>Typ</td>\n",
       "      <td>...</td>\n",
       "      <td>3.0</td>\n",
       "      <td>648.0</td>\n",
       "      <td>TA</td>\n",
       "      <td>TA</td>\n",
       "      <td>Y</td>\n",
       "      <td>0</td>\n",
       "      <td>56</td>\n",
       "      <td>0</td>\n",
       "      <td>0</td>\n",
       "      <td>0</td>\n",
       "    </tr>\n",
       "    <tr>\n",
       "      <th>1137</th>\n",
       "      <td>114500</td>\n",
       "      <td>0.0</td>\n",
       "      <td>0.0</td>\n",
       "      <td>1</td>\n",
       "      <td>0</td>\n",
       "      <td>2</td>\n",
       "      <td>1</td>\n",
       "      <td>TA</td>\n",
       "      <td>5</td>\n",
       "      <td>Typ</td>\n",
       "      <td>...</td>\n",
       "      <td>1.0</td>\n",
       "      <td>275.0</td>\n",
       "      <td>TA</td>\n",
       "      <td>TA</td>\n",
       "      <td>Y</td>\n",
       "      <td>0</td>\n",
       "      <td>0</td>\n",
       "      <td>0</td>\n",
       "      <td>0</td>\n",
       "      <td>0</td>\n",
       "    </tr>\n",
       "    <tr>\n",
       "      <th>2078</th>\n",
       "      <td>139500</td>\n",
       "      <td>0.0</td>\n",
       "      <td>0.0</td>\n",
       "      <td>2</td>\n",
       "      <td>0</td>\n",
       "      <td>3</td>\n",
       "      <td>1</td>\n",
       "      <td>TA</td>\n",
       "      <td>7</td>\n",
       "      <td>Typ</td>\n",
       "      <td>...</td>\n",
       "      <td>1.0</td>\n",
       "      <td>240.0</td>\n",
       "      <td>TA</td>\n",
       "      <td>TA</td>\n",
       "      <td>Y</td>\n",
       "      <td>335</td>\n",
       "      <td>0</td>\n",
       "      <td>0</td>\n",
       "      <td>0</td>\n",
       "      <td>0</td>\n",
       "    </tr>\n",
       "    <tr>\n",
       "      <th>1793</th>\n",
       "      <td>145000</td>\n",
       "      <td>1.0</td>\n",
       "      <td>0.0</td>\n",
       "      <td>1</td>\n",
       "      <td>0</td>\n",
       "      <td>3</td>\n",
       "      <td>1</td>\n",
       "      <td>TA</td>\n",
       "      <td>5</td>\n",
       "      <td>Typ</td>\n",
       "      <td>...</td>\n",
       "      <td>2.0</td>\n",
       "      <td>572.0</td>\n",
       "      <td>TA</td>\n",
       "      <td>TA</td>\n",
       "      <td>Y</td>\n",
       "      <td>264</td>\n",
       "      <td>0</td>\n",
       "      <td>0</td>\n",
       "      <td>0</td>\n",
       "      <td>0</td>\n",
       "    </tr>\n",
       "    <tr>\n",
       "      <th>717</th>\n",
       "      <td>185850</td>\n",
       "      <td>1.0</td>\n",
       "      <td>0.0</td>\n",
       "      <td>2</td>\n",
       "      <td>0</td>\n",
       "      <td>2</td>\n",
       "      <td>1</td>\n",
       "      <td>Gd</td>\n",
       "      <td>6</td>\n",
       "      <td>Typ</td>\n",
       "      <td>...</td>\n",
       "      <td>2.0</td>\n",
       "      <td>484.0</td>\n",
       "      <td>TA</td>\n",
       "      <td>TA</td>\n",
       "      <td>Y</td>\n",
       "      <td>192</td>\n",
       "      <td>36</td>\n",
       "      <td>0</td>\n",
       "      <td>0</td>\n",
       "      <td>0</td>\n",
       "    </tr>\n",
       "    <tr>\n",
       "      <th>2512</th>\n",
       "      <td>291000</td>\n",
       "      <td>1.0</td>\n",
       "      <td>0.0</td>\n",
       "      <td>2</td>\n",
       "      <td>0</td>\n",
       "      <td>3</td>\n",
       "      <td>1</td>\n",
       "      <td>Ex</td>\n",
       "      <td>8</td>\n",
       "      <td>Typ</td>\n",
       "      <td>...</td>\n",
       "      <td>3.0</td>\n",
       "      <td>711.0</td>\n",
       "      <td>TA</td>\n",
       "      <td>TA</td>\n",
       "      <td>Y</td>\n",
       "      <td>168</td>\n",
       "      <td>120</td>\n",
       "      <td>0</td>\n",
       "      <td>0</td>\n",
       "      <td>0</td>\n",
       "    </tr>\n",
       "    <tr>\n",
       "      <th>836</th>\n",
       "      <td>120500</td>\n",
       "      <td>0.0</td>\n",
       "      <td>0.0</td>\n",
       "      <td>1</td>\n",
       "      <td>0</td>\n",
       "      <td>3</td>\n",
       "      <td>1</td>\n",
       "      <td>Gd</td>\n",
       "      <td>5</td>\n",
       "      <td>Typ</td>\n",
       "      <td>...</td>\n",
       "      <td>2.0</td>\n",
       "      <td>660.0</td>\n",
       "      <td>TA</td>\n",
       "      <td>TA</td>\n",
       "      <td>Y</td>\n",
       "      <td>96</td>\n",
       "      <td>0</td>\n",
       "      <td>0</td>\n",
       "      <td>0</td>\n",
       "      <td>0</td>\n",
       "    </tr>\n",
       "    <tr>\n",
       "      <th>1914</th>\n",
       "      <td>263400</td>\n",
       "      <td>1.0</td>\n",
       "      <td>0.0</td>\n",
       "      <td>2</td>\n",
       "      <td>1</td>\n",
       "      <td>3</td>\n",
       "      <td>1</td>\n",
       "      <td>Gd</td>\n",
       "      <td>8</td>\n",
       "      <td>Typ</td>\n",
       "      <td>...</td>\n",
       "      <td>2.0</td>\n",
       "      <td>506.0</td>\n",
       "      <td>TA</td>\n",
       "      <td>TA</td>\n",
       "      <td>Y</td>\n",
       "      <td>0</td>\n",
       "      <td>96</td>\n",
       "      <td>0</td>\n",
       "      <td>0</td>\n",
       "      <td>0</td>\n",
       "    </tr>\n",
       "  </tbody>\n",
       "</table>\n",
       "<p>10 rows × 24 columns</p>\n",
       "</div>"
      ],
      "text/plain": [
       "      SalePrice  BsmtFullBath  BsmtHalfBath  FullBath  HalfBath  BedroomAbvGr  \\\n",
       "2475     105000           1.0           0.0         1         0             2   \n",
       "1144     462000           1.0           0.0         3         1             4   \n",
       "1495     248000           0.0           0.0         2         1             4   \n",
       "1137     114500           0.0           0.0         1         0             2   \n",
       "2078     139500           0.0           0.0         2         0             3   \n",
       "1793     145000           1.0           0.0         1         0             3   \n",
       "717      185850           1.0           0.0         2         0             2   \n",
       "2512     291000           1.0           0.0         2         0             3   \n",
       "836      120500           0.0           0.0         1         0             3   \n",
       "1914     263400           1.0           0.0         2         1             3   \n",
       "\n",
       "      KitchenAbvGr KitchenQual  TotRmsAbvGrd Functional  ...  GarageCars  \\\n",
       "2475             1          TA             5        Typ  ...         1.0   \n",
       "1144             1          Ex            10        Typ  ...         3.0   \n",
       "1495             1          Gd             8        Typ  ...         3.0   \n",
       "1137             1          TA             5        Typ  ...         1.0   \n",
       "2078             1          TA             7        Typ  ...         1.0   \n",
       "1793             1          TA             5        Typ  ...         2.0   \n",
       "717              1          Gd             6        Typ  ...         2.0   \n",
       "2512             1          Ex             8        Typ  ...         3.0   \n",
       "836              1          Gd             5        Typ  ...         2.0   \n",
       "1914             1          Gd             8        Typ  ...         2.0   \n",
       "\n",
       "     GarageArea GarageQual GarageCond  PavedDrive  WoodDeckSF OpenPorchSF  \\\n",
       "2475      180.0         Fa         TA           Y          48           0   \n",
       "1144      754.0         TA         TA           Y         135          64   \n",
       "1495      648.0         TA         TA           Y           0          56   \n",
       "1137      275.0         TA         TA           Y           0           0   \n",
       "2078      240.0         TA         TA           Y         335           0   \n",
       "1793      572.0         TA         TA           Y         264           0   \n",
       "717       484.0         TA         TA           Y         192          36   \n",
       "2512      711.0         TA         TA           Y         168         120   \n",
       "836       660.0         TA         TA           Y          96           0   \n",
       "1914      506.0         TA         TA           Y           0          96   \n",
       "\n",
       "     EnclosedPorch 3SsnPorch  ScreenPorch  \n",
       "2475             0         0            0  \n",
       "1144             0         0            0  \n",
       "1495             0         0            0  \n",
       "1137             0         0            0  \n",
       "2078             0         0            0  \n",
       "1793             0         0            0  \n",
       "717              0         0            0  \n",
       "2512             0         0            0  \n",
       "836              0         0            0  \n",
       "1914             0         0            0  \n",
       "\n",
       "[10 rows x 24 columns]"
      ]
     },
     "execution_count": 5,
     "metadata": {},
     "output_type": "execute_result"
    }
   ],
   "source": [
    "housing.sample(10)"
   ]
  },
  {
   "cell_type": "markdown",
   "metadata": {},
   "source": [
    "### Data Cleanup: fillna"
   ]
  },
  {
   "cell_type": "code",
   "execution_count": 14,
   "metadata": {},
   "outputs": [],
   "source": [
    "# Filling nominal NA's with 0's (no basement or garage)\n",
    "housing['GarageQual'].fillna(0, inplace = True)\n",
    "housing['GarageCond'].fillna(0, inplace = True)\n",
    "housing['GarageCars'].fillna(0, inplace = True)\n",
    "housing['GarageArea'].fillna(0, inplace = True)\n",
    "\n",
    "# Filling categorical NA's with 'None' (no garage)\n",
    "housing['GarageType'].fillna('None', inplace = True)\n",
    "housing['GarageFinish'].fillna('None', inplace = True)"
   ]
  },
  {
   "cell_type": "code",
   "execution_count": 15,
   "metadata": {},
   "outputs": [
    {
     "data": {
      "text/plain": [
       "SalePrice        False\n",
       "BsmtFullBath      True\n",
       "BsmtHalfBath      True\n",
       "FullBath         False\n",
       "HalfBath         False\n",
       "BedroomAbvGr     False\n",
       "KitchenAbvGr     False\n",
       "KitchenQual      False\n",
       "TotRmsAbvGrd     False\n",
       "Functional       False\n",
       "Fireplaces       False\n",
       "FireplaceQu       True\n",
       "GarageType       False\n",
       "GarageFinish     False\n",
       "GarageCars       False\n",
       "GarageArea       False\n",
       "GarageQual       False\n",
       "GarageCond       False\n",
       "PavedDrive       False\n",
       "WoodDeckSF       False\n",
       "OpenPorchSF      False\n",
       "EnclosedPorch    False\n",
       "3SsnPorch        False\n",
       "ScreenPorch      False\n",
       "dtype: bool"
      ]
     },
     "execution_count": 15,
     "metadata": {},
     "output_type": "execute_result"
    }
   ],
   "source": [
    "housing.isnull().any()"
   ]
  },
  {
   "cell_type": "markdown",
   "metadata": {},
   "source": [
    "### Data Cleanup: Combine Bathrooms to create 'TotalBath' feature"
   ]
  },
  {
   "cell_type": "code",
   "execution_count": 16,
   "metadata": {},
   "outputs": [],
   "source": [
    "# Combining bathrooms to single variable and dropping the individual counts\n",
    "housing['TotalBath'] = housing['BsmtFullBath'] + .5 * housing['BsmtHalfBath'] + housing['FullBath'] + .5* housing['HalfBath']\n",
    "housing.drop(['BsmtFullBath', 'BsmtHalfBath', 'HalfBath'], axis = 1, inplace = True)"
   ]
  },
  {
   "cell_type": "markdown",
   "metadata": {},
   "source": [
    "- I kept the 'FullBath' feature because it had a 0.53 correlation with 'SalePrice'"
   ]
  },
  {
   "cell_type": "code",
   "execution_count": 17,
   "metadata": {},
   "outputs": [
    {
     "data": {
      "text/plain": [
       "0       2.0\n",
       "1       3.0\n",
       "2       1.0\n",
       "3       1.0\n",
       "4       3.5\n",
       "       ... \n",
       "2575    1.0\n",
       "2576    2.0\n",
       "2577    2.0\n",
       "2578    3.5\n",
       "2579    2.5\n",
       "Name: TotalBath, Length: 2580, dtype: float64"
      ]
     },
     "execution_count": 17,
     "metadata": {},
     "output_type": "execute_result"
    }
   ],
   "source": [
    "housing.TotalBath"
   ]
  },
  {
   "cell_type": "markdown",
   "metadata": {},
   "source": [
    "### Data Cleanup: Deck / Porches to binary terms"
   ]
  },
  {
   "cell_type": "markdown",
   "metadata": {},
   "source": [
    "- Disregard size of deck / porch\n",
    "- Simplify to binary terms: 1 if it has a deck/porch, 0 if it does not"
   ]
  },
  {
   "cell_type": "code",
   "execution_count": 8,
   "metadata": {
    "scrolled": true
   },
   "outputs": [],
   "source": [
    "housing['WoodDeckSF'] = [1 if x > 0 else 0 for x in housing['WoodDeckSF']]\n",
    "housing['OpenPorchSF'] = [1 if x > 0 else 0 for x in housing['OpenPorchSF']]\n",
    "housing['EnclosedPorch'] = [1 if x > 0 else 0 for x in housing['EnclosedPorch']]\n",
    "housing['3SsnPorch'] = [1 if x > 0 else 0 for x in housing['3SsnPorch']]\n",
    "housing['ScreenPorch'] = [1 if x > 0 else 0 for x in housing['ScreenPorch']]\n",
    "\n",
    "housing.rename(columns = {'WoodDeckSF': 'WoodDeck', 'OpenPorchSF': 'OpenPorch'}, inplace = True)"
   ]
  },
  {
   "cell_type": "markdown",
   "metadata": {},
   "source": [
    "### Data Cleanup: Ordinal and Categorical Features"
   ]
  },
  {
   "cell_type": "code",
   "execution_count": 11,
   "metadata": {},
   "outputs": [],
   "source": [
    "#Ordinal\n",
    "housing.KitchenQual.replace({'Po':1, 'Fa':2, 'TA':3, 'Gd':4, 'Ex':5}, inplace=True)\n",
    "housing.GarageQual.replace({'Po':1, 'Fa':2, 'TA':3, 'Gd':4, 'Ex':5}, inplace=True)\n",
    "housing.GarageCond.replace({'Po':1, 'Fa':2, 'TA':3, 'Gd':4, 'Ex':5}, inplace=True)\n",
    "housing.PavedDrive.replace({'N':1, 'P':2, 'Y':3}, inplace=True)\n",
    "\n",
    "#Categorical\n",
    "dummies=['Functional','GarageType','GarageFinish']\n",
    "\n",
    "for d in dummies:\n",
    "    temp = pd.get_dummies(housing[d], prefix=d, prefix_sep='__')\n",
    "    temp = temp.drop(d+'__'+str(housing[d].mode()[0]), axis=1)\n",
    "    #drop the most common one (mode), making it the base case\n",
    "    housing = pd.concat([housing.drop(d, axis=1),temp], axis=1)\n",
    "    #merge back with main df"
   ]
  },
  {
   "cell_type": "markdown",
   "metadata": {},
   "source": [
    "### Multicollinearity in Garages"
   ]
  },
  {
   "cell_type": "markdown",
   "metadata": {},
   "source": [
    "High correlation in:\n",
    "- GarageCars | GarageArea\n",
    "- GarageQual | GarageCond"
   ]
  },
  {
   "cell_type": "code",
   "execution_count": 32,
   "metadata": {
    "scrolled": true
   },
   "outputs": [
    {
     "name": "stdout",
     "output_type": "stream",
     "text": [
      "GarageCars | GarageArea 0.8898279487178717\n",
      "GarageCars | GarageQual 0.553947524952688\n",
      "GarageCars | GarageCond 0.5424153436558793\n",
      "GarageArea | GarageQual 0.545929045147731\n",
      "GarageArea | GarageCond 0.5308307101908939\n",
      "GarageQual | GarageCond 0.9409098825951635\n"
     ]
    }
   ],
   "source": [
    "print(f'GarageCars | GarageArea', housing['GarageCars'].corr(housing['GarageArea']))\n",
    "print(f'GarageCars | GarageQual', housing['GarageCars'].corr(housing['GarageQual']))\n",
    "print(f'GarageCars | GarageCond', housing['GarageCars'].corr(housing['GarageCond']))\n",
    "print(f'GarageArea | GarageQual', housing['GarageArea'].corr(housing['GarageQual']))\n",
    "print(f'GarageArea | GarageCond', housing['GarageArea'].corr(housing['GarageCond']))\n",
    "print(f'GarageQual | GarageCond', housing['GarageQual'].corr(housing['GarageCond']))"
   ]
  },
  {
   "cell_type": "markdown",
   "metadata": {},
   "source": [
    "### Removing Features"
   ]
  },
  {
   "cell_type": "markdown",
   "metadata": {},
   "source": [
    "- 3 features left, but should all be dropped.\n",
    "    - 'BsmtFullBath' - .29 correlation, seems unnecessary\n",
    "    - 'BsmtHalfBath' - -.03 correlation is too low\n",
    "    - 'FireplaceQu' - over 1200 NA's - probably not contributing much"
   ]
  },
  {
   "cell_type": "code",
   "execution_count": 34,
   "metadata": {},
   "outputs": [
    {
     "data": {
      "text/plain": [
       "0.2910798682384592"
      ]
     },
     "execution_count": 34,
     "metadata": {},
     "output_type": "execute_result"
    }
   ],
   "source": [
    "housing['BsmtFullBath'].corr(housing['SalePrice'])"
   ]
  },
  {
   "cell_type": "code",
   "execution_count": 35,
   "metadata": {},
   "outputs": [
    {
     "data": {
      "text/plain": [
       "-0.03380161573118478"
      ]
     },
     "execution_count": 35,
     "metadata": {},
     "output_type": "execute_result"
    }
   ],
   "source": [
    "housing['BsmtHalfBath'].corr(housing['SalePrice'])"
   ]
  },
  {
   "cell_type": "code",
   "execution_count": 33,
   "metadata": {
    "scrolled": true
   },
   "outputs": [
    {
     "data": {
      "text/plain": [
       "<matplotlib.axes._subplots.AxesSubplot at 0x21aca0f3730>"
      ]
     },
     "execution_count": 33,
     "metadata": {},
     "output_type": "execute_result"
    },
    {
     "data": {
      "image/png": "[encoded data removed]",
      "text/plain": [
       "<Figure size 432x288 with 1 Axes>"
      ]
     },
     "metadata": {
      "needs_background": "light"
     },
     "output_type": "display_data"
    }
   ],
   "source": [
    "missing = housing.isnull().sum()\n",
    "missing = missing[missing > 0]\n",
    "missing.sort_values(inplace = True)\n",
    "missing.plot.bar()"
   ]
  },
  {
   "cell_type": "markdown",
   "metadata": {},
   "source": [
    "### Checking Correlations to 'SalePrice'"
   ]
  },
  {
   "cell_type": "code",
   "execution_count": 36,
   "metadata": {},
   "outputs": [],
   "source": [
    "num_vars = housing.select_dtypes(np.number)"
   ]
  },
  {
   "cell_type": "code",
   "execution_count": 37,
   "metadata": {},
   "outputs": [
    {
     "name": "stdout",
     "output_type": "stream",
     "text": [
      "SalePrice              1.000000\n",
      "KitchenQual            0.655118\n",
      "GarageCars             0.638424\n",
      "GarageArea             0.634669\n",
      "FullBath               0.534982\n",
      "TotRmsAbvGrd           0.490219\n",
      "Fireplaces             0.488184\n",
      "OpenPorch              0.423054\n",
      "GarageFinish__Fin      0.404281\n",
      "WoodDeck               0.308870\n",
      "BsmtFullBath           0.291080\n",
      "HalfBath               0.285875\n",
      "GarageQual             0.273221\n",
      "PavedDrive             0.268327\n",
      "GarageCond             0.252923\n",
      "GarageType__BuiltIn    0.184067\n",
      "GarageFinish__RFn      0.179338\n",
      "BedroomAbvGr           0.151806\n",
      "ScreenPorch            0.101078\n",
      "3SsnPorch              0.028418\n",
      "GarageType__2Types    -0.028956\n",
      "Functional__Mod       -0.029420\n",
      "Functional__Maj1      -0.031250\n",
      "GarageType__Basment   -0.031406\n",
      "Functional__Sal       -0.033615\n",
      "BsmtHalfBath          -0.033802\n",
      "GarageType__CarPort   -0.053114\n",
      "Functional__Maj2      -0.055456\n",
      "Functional__Min2      -0.058913\n",
      "Functional__Min1      -0.059377\n",
      "KitchenAbvGr          -0.113977\n",
      "EnclosedPorch         -0.193287\n",
      "GarageFinish__None    -0.217882\n",
      "GarageType__None      -0.218421\n",
      "GarageType__Detchd    -0.369865\n",
      "Name: SalePrice, dtype: float64 \n",
      "\n"
     ]
    }
   ],
   "source": [
    "correlation = num_vars.corr()\n",
    "print(correlation['SalePrice'].sort_values(ascending = False), '\\n')"
   ]
  },
  {
   "cell_type": "code",
   "execution_count": null,
   "metadata": {},
   "outputs": [],
   "source": []
  }
 ],
 "metadata": {
  "kernelspec": {
   "display_name": "Python 3",
   "language": "python",
   "name": "python3"
  },
  "language_info": {
   "codemirror_mode": {
    "name": "ipython",
    "version": 3
   },
   "file_extension": ".py",
   "mimetype": "text/x-python",
   "name": "python",
   "nbconvert_exporter": "python",
   "pygments_lexer": "ipython3",
   "version": "3.8.5"
  }
 },
 "nbformat": 4,
 "nbformat_minor": 4
}
