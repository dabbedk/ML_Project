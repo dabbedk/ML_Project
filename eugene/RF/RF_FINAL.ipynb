{
 "cells": [
  {
   "cell_type": "markdown",
   "metadata": {},
   "source": [
    "## RANDOM FOREST"
   ]
  },
  {
   "cell_type": "code",
   "execution_count": 18,
   "metadata": {},
   "outputs": [],
   "source": [
    "from sklearn.ensemble import RandomForestRegressor\n",
    "from sklearn.model_selection import train_test_split, GridSearchCV, KFold"
   ]
  },
  {
   "cell_type": "code",
   "execution_count": 23,
   "metadata": {},
   "outputs": [
    {
     "data": {
      "text/plain": [
       "(2580, 63)"
      ]
     },
     "execution_count": 23,
     "metadata": {},
     "output_type": "execute_result"
    }
   ],
   "source": [
    "import numpy as np\n",
    "import pandas as pd\n",
    "import seaborn as sns\n",
    "%matplotlib inline \n",
    "import matplotlib.pyplot as plt\n",
    "pd.options.display.max_columns = 50\n",
    "import warnings\n",
    "warnings.filterwarnings('ignore')\n",
    "\n",
    "\n",
    "treehouse = pd.read_csv('housing_rf.csv', index_col=0)\n",
    "treehouse.shape"
   ]
  },
  {
   "cell_type": "code",
   "execution_count": 24,
   "metadata": {},
   "outputs": [],
   "source": [
    "treehousetarg = pd.Series(treehouse.SalePrice_Log, name='target')\n",
    "treehousefeature = treehouse.drop('SalePrice_Log',axis=1)"
   ]
  },
  {
   "cell_type": "code",
   "execution_count": 25,
   "metadata": {},
   "outputs": [],
   "source": [
    "from sklearn.model_selection import train_test_split\n",
    "Xtrain, Xtest, ytrain, ytest = train_test_split(treehousefeature, \n",
    "                                                treehousetarg, \n",
    "                                                random_state = 8)"
   ]
  },
  {
   "cell_type": "code",
   "execution_count": 26,
   "metadata": {},
   "outputs": [
    {
     "data": {
      "text/plain": [
       "0.9838390855044552"
      ]
     },
     "execution_count": 26,
     "metadata": {},
     "output_type": "execute_result"
    }
   ],
   "source": [
    "rfr = RandomForestRegressor()\n",
    "rfr.fit(Xtrain,ytrain)\n",
    "rfr.score(Xtrain,ytrain)"
   ]
  },
  {
   "cell_type": "code",
   "execution_count": 28,
   "metadata": {},
   "outputs": [
    {
     "data": {
      "text/plain": [
       "array([1.94149168e-02, 6.00378683e-05, 1.17180366e-03, 6.42843776e-04,\n",
       "       1.22102261e-07, 7.07978754e-04, 5.98593035e-01, 5.85711230e-03,\n",
       "       1.45171509e-02, 8.74286848e-03, 7.09483816e-04, 1.60760371e-04,\n",
       "       1.04986093e-01, 3.78705322e-03, 1.69934532e-03, 2.94937200e-03,\n",
       "       8.43696130e-03, 8.53988530e-04, 1.40975108e-03, 3.94221089e-03,\n",
       "       1.59135466e-02, 3.78729480e-04, 4.32627969e-04, 5.31602994e-03,\n",
       "       5.43838733e-02, 2.55906482e-03, 6.33655051e-03, 3.75866766e-03,\n",
       "       2.60095103e-03, 2.63317743e-03, 1.94973396e-03, 4.39474669e-04,\n",
       "       3.52366880e-03, 2.11265048e-03, 6.83443515e-03, 4.05490665e-02,\n",
       "       1.74924316e-03, 1.66420851e-03, 2.94868115e-03, 4.74329690e-03,\n",
       "       2.15324303e-03, 1.30633682e-04, 8.87234865e-04, 7.36834613e-06,\n",
       "       7.86359273e-04, 1.94380367e-02, 2.34857363e-03, 5.47658401e-04,\n",
       "       1.29262141e-03, 3.27574432e-04, 4.87379341e-03, 1.15287147e-03,\n",
       "       3.60354520e-03, 1.07374253e-03, 1.63355602e-03, 4.86265648e-03,\n",
       "       1.47433212e-03, 7.20613791e-04, 1.07725017e-03, 4.36504673e-03,\n",
       "       1.61223109e-03, 6.16048976e-03])"
      ]
     },
     "execution_count": 28,
     "metadata": {},
     "output_type": "execute_result"
    }
   ],
   "source": [
    "#rfc.predict\n",
    "#rfc.predict_proba\n",
    "rfr.feature_importances_"
   ]
  },
  {
   "cell_type": "code",
   "execution_count": 29,
   "metadata": {},
   "outputs": [
    {
     "name": "stdout",
     "output_type": "stream",
     "text": [
      "LotArea_Log >> 0.019414916804693674\n",
      "Street_Paved >> 6.0037868332893194e-05\n",
      "LotShape >> 0.001171803663729548\n",
      "LandContour >> 0.0006428437761481354\n",
      "Utilities >> 1.2210226132953508e-07\n",
      "LandSlope >> 0.0007079787536716016\n",
      "OverallQual >> 0.5985930348019329\n",
      "OverallCond >> 0.005857112302703871\n",
      "YearBuilt >> 0.014517150906546884\n",
      "YearRemodAdd >> 0.008742868480901472\n",
      "RoofStyle_Gable >> 0.0007094838162619428\n",
      "RoofMatl_CompShg >> 0.00016076037071001447\n",
      "GrLivArea_Log >> 0.10498609349490423\n",
      "MasVnrArea >> 0.0037870532210156145\n",
      "ExterQual >> 0.0016993453205222477\n",
      "ExterCond >> 0.002949372003495688\n",
      "BsmtQual >> 0.00843696130067594\n",
      "BsmtCond >> 0.0008539885295644575\n",
      "BsmtExposure >> 0.001409751078892974\n",
      "BsmtFinType1 >> 0.003942210887133808\n",
      "BsmtFinSF1 >> 0.01591354661855712\n",
      "BsmtFinType2 >> 0.00037872948000182373\n",
      "BsmtFinSF2 >> 0.0004326279686533823\n",
      "BsmtUnfSF >> 0.005316029940067062\n",
      "TotalBsmtSF >> 0.05438387326040618\n",
      "HeatingQC >> 0.0025590648180747098\n",
      "CentralAir >> 0.006336550507539252\n",
      "MoSold >> 0.003758667655628968\n",
      "YrSold >> 0.0026009510255904735\n",
      "FullBath >> 0.0026331774278679112\n",
      "BedroomAbvGr >> 0.0019497339553724022\n",
      "KitchenAbvGr >> 0.0004394746689315216\n",
      "KitchenQual >> 0.0035236687959047867\n",
      "TotRmsAbvGrd >> 0.0021126504848227056\n",
      "Fireplaces >> 0.006834435146481947\n",
      "GarageCars >> 0.040549066456159175\n",
      "GarageQual >> 0.0017492431566712072\n",
      "PavedDrive >> 0.0016642085112807891\n",
      "WoodDeckSF >> 0.0029486811485892523\n",
      "OpenPorchSF >> 0.004743296904440459\n",
      "EnclosedPorch >> 0.0021532430335336533\n",
      "3SsnPorch >> 0.00013063368208731315\n",
      "ScreenPorch >> 0.00088723486502378\n",
      "PoolArea >> 7.368346132987552e-06\n",
      "Fence >> 0.0007863592730930647\n",
      "TotalBath >> 0.019438036743694306\n",
      "Exterior1st >> 0.0023485736261272135\n",
      "MasVnrType >> 0.0005476584009037583\n",
      "Foundation >> 0.0012926214125937325\n",
      "Heating >> 0.0003275744319305981\n",
      "SaleCondition >> 0.004873793410489743\n",
      "Functional >> 0.001152871473380571\n",
      "GarageType >> 0.003603545197930594\n",
      "GarageFinish >> 0.0010737425325059939\n",
      "MSSubClass >> 0.0016335560175869048\n",
      "MSZoning >> 0.004862656484811816\n",
      "BldgType >> 0.0014743321230841306\n",
      "LotConfig >> 0.0007206137907362899\n",
      "HouseStyle >> 0.0010772501687580827\n",
      "Neighborhood >> 0.004365046725863243\n",
      "Condition1 >> 0.001612231088957974\n",
      "ISU_dist >> 0.006160489755633926\n"
     ]
    }
   ],
   "source": [
    "for ftname, ftimp in zip(Xtrain.columns, rfr.feature_importances_):\n",
    "    print(f\"{ftname} >> {ftimp}\")"
   ]
  },
  {
   "cell_type": "code",
   "execution_count": 48,
   "metadata": {},
   "outputs": [
    {
     "data": {
      "text/plain": [
       "OverallQual      0.598593\n",
       "GrLivArea_Log    0.104986\n",
       "TotalBsmtSF      0.054384\n",
       "GarageCars       0.040549\n",
       "TotalBath        0.019438\n",
       "LotArea_Log      0.019415\n",
       "BsmtFinSF1       0.015914\n",
       "YearBuilt        0.014517\n",
       "YearRemodAdd     0.008743\n",
       "BsmtQual         0.008437\n",
       "Fireplaces       0.006834\n",
       "CentralAir       0.006337\n",
       "ISU_dist         0.006160\n",
       "OverallCond      0.005857\n",
       "BsmtUnfSF        0.005316\n",
       "SaleCondition    0.004874\n",
       "MSZoning         0.004863\n",
       "OpenPorchSF      0.004743\n",
       "Neighborhood     0.004365\n",
       "BsmtFinType1     0.003942\n",
       "dtype: float64"
      ]
     },
     "execution_count": 48,
     "metadata": {},
     "output_type": "execute_result"
    }
   ],
   "source": [
    "feat_imp = pd.Series(rfr.feature_importances_, index = Xtrain.columns)\n",
    "feat_imp.sort_values(ascending=False).head(20)"
   ]
  },
  {
   "cell_type": "code",
   "execution_count": 44,
   "metadata": {},
   "outputs": [],
   "source": [
    "#rfr.estimators_ #where all the n_estimator trees are stored"
   ]
  },
  {
   "cell_type": "code",
   "execution_count": 51,
   "metadata": {},
   "outputs": [
    {
     "data": {
      "text/plain": [
       "array([11.74835659, 11.73692651])"
      ]
     },
     "execution_count": 51,
     "metadata": {},
     "output_type": "execute_result"
    }
   ],
   "source": [
    "rfr.predict(Xtrain.sample(2))"
   ]
  },
  {
   "cell_type": "code",
   "execution_count": 52,
   "metadata": {},
   "outputs": [
    {
     "data": {
      "text/plain": [
       "{'bootstrap': True,\n",
       " 'ccp_alpha': 0.0,\n",
       " 'criterion': 'mse',\n",
       " 'max_depth': None,\n",
       " 'max_features': 'auto',\n",
       " 'max_leaf_nodes': None,\n",
       " 'max_samples': None,\n",
       " 'min_impurity_decrease': 0.0,\n",
       " 'min_impurity_split': None,\n",
       " 'min_samples_leaf': 1,\n",
       " 'min_samples_split': 2,\n",
       " 'min_weight_fraction_leaf': 0.0,\n",
       " 'n_estimators': 100,\n",
       " 'n_jobs': None,\n",
       " 'oob_score': False,\n",
       " 'random_state': None,\n",
       " 'verbose': 0,\n",
       " 'warm_start': False}"
      ]
     },
     "execution_count": 52,
     "metadata": {},
     "output_type": "execute_result"
    }
   ],
   "source": [
    "rfr.get_params()"
   ]
  },
  {
   "cell_type": "code",
   "execution_count": 55,
   "metadata": {},
   "outputs": [
    {
     "data": {
      "text/plain": [
       "GridSearchCV(cv=KFold(n_splits=5, random_state=None, shuffle=True),\n",
       "             estimator=RandomForestRegressor(),\n",
       "             param_grid={'bootstrap': [True], 'ccp_alpha': [0, 0.5, 1],\n",
       "                         'max_depth': [80, 90, 100],\n",
       "                         'min_samples_leaf': [3, 4, 5],\n",
       "                         'min_samples_split': [8, 10, 12],\n",
       "                         'n_estimators': [50, 100, 200]},\n",
       "             return_train_score=True)"
      ]
     },
     "execution_count": 55,
     "metadata": {},
     "output_type": "execute_result"
    }
   ],
   "source": [
    "params = {\n",
    "    'bootstrap': [True],\n",
    "    'ccp_alpha': [0,0.5,1],\n",
    "    'max_depth': [80, 90, 100],\n",
    "    'min_samples_leaf': [3, 4, 5],\n",
    "    'min_samples_split': [8, 10, 12],\n",
    "    'n_estimators': [50, 100, 200]}\n",
    "\n",
    "# params = {'ccp_alpha':[0,0.5,1],\n",
    "#           'n_estimators':[10,50,100],\n",
    "#           'min_samples_leaf':[1,2,5,10]}\n",
    "\n",
    "cv = KFold(n_splits=5, shuffle=True)\n",
    "\n",
    "grid = GridSearchCV(estimator = rfr, param_grid = params, cv = cv, return_train_score=True)\n",
    "\n",
    "grid.fit(Xtrain,ytrain)"
   ]
  },
  {
   "cell_type": "code",
   "execution_count": 56,
   "metadata": {},
   "outputs": [
    {
     "data": {
      "text/plain": [
       "{'bootstrap': True,\n",
       " 'ccp_alpha': 0,\n",
       " 'max_depth': 80,\n",
       " 'min_samples_leaf': 3,\n",
       " 'min_samples_split': 8,\n",
       " 'n_estimators': 200}"
      ]
     },
     "execution_count": 56,
     "metadata": {},
     "output_type": "execute_result"
    }
   ],
   "source": [
    "grid.best_params_"
   ]
  },
  {
   "cell_type": "code",
   "execution_count": 57,
   "metadata": {},
   "outputs": [],
   "source": [
    "best_rf = grid.best_estimator_"
   ]
  },
  {
   "cell_type": "code",
   "execution_count": 58,
   "metadata": {},
   "outputs": [],
   "source": [
    "y_pred = best_rf.predict(Xtest)"
   ]
  },
  {
   "cell_type": "code",
   "execution_count": 69,
   "metadata": {},
   "outputs": [
    {
     "name": "stdout",
     "output_type": "stream",
     "text": [
      "Mean Absolute Error: 0.08101513349836474\n",
      "Mean Squared Error: 0.013499957612901913\n",
      "Root Mean Squared Error: 0.11618931798105157\n"
     ]
    }
   ],
   "source": [
    "# Evaluating the Algorithm\n",
    "from sklearn import metrics\n",
    "print('Mean Absolute Error:', metrics.mean_absolute_error(ytest, y_pred))  \n",
    "print('Mean Squared Error:', metrics.mean_squared_error(ytest, y_pred))  \n",
    "print('Root Mean Squared Error:', np.sqrt(metrics.mean_squared_error(ytest, y_pred)))"
   ]
  },
  {
   "cell_type": "code",
   "execution_count": 71,
   "metadata": {},
   "outputs": [
    {
     "name": "stdout",
     "output_type": "stream",
     "text": [
      "train score: 0.963\n",
      "test score: 0.906\n"
     ]
    }
   ],
   "source": [
    "print(f'train score: {best_rf.score(Xtrain, ytrain):.3f}')\n",
    "print(f'test score: {best_rf.score(Xtest, ytest):.3f}')"
   ]
  },
  {
   "cell_type": "code",
   "execution_count": null,
   "metadata": {
    "scrolled": true
   },
   "outputs": [],
   "source": [
    "for val_score, train_score in zip(grid.cv_results_['mean_test_score'], grid.cv_results_['mean_train_score']):\n",
    "    print(f\"Val Score: {val_score} | Train Score: {train_score}\")"
   ]
  },
  {
   "cell_type": "code",
   "execution_count": 73,
   "metadata": {},
   "outputs": [
    {
     "data": {
      "text/plain": [
       "LotArea_Log     0.018474\n",
       "Street_Paved    0.000000\n",
       "LotShape        0.001141\n",
       "LandContour     0.000354\n",
       "Utilities       0.000000\n",
       "                  ...   \n",
       "LotConfig       0.000505\n",
       "HouseStyle      0.000706\n",
       "Neighborhood    0.003564\n",
       "Condition1      0.000832\n",
       "ISU_dist        0.004674\n",
       "Length: 62, dtype: float64"
      ]
     },
     "execution_count": 73,
     "metadata": {},
     "output_type": "execute_result"
    }
   ],
   "source": [
    "pd.Series(best_rf.feature_importances_, index = Xtrain.columns)"
   ]
  },
  {
   "cell_type": "code",
   "execution_count": 74,
   "metadata": {},
   "outputs": [
    {
     "data": {
      "text/plain": [
       "OverallQual      0.624299\n",
       "GrLivArea_Log    0.110980\n",
       "TotalBsmtSF      0.051584\n",
       "GarageCars       0.036827\n",
       "TotalBath        0.018961\n",
       "LotArea_Log      0.018474\n",
       "BsmtFinSF1       0.015585\n",
       "YearBuilt        0.014728\n",
       "BsmtQual         0.008970\n",
       "YearRemodAdd     0.006846\n",
       "OverallCond      0.006252\n",
       "Fireplaces       0.005622\n",
       "MSZoning         0.005191\n",
       "ISU_dist         0.004674\n",
       "BsmtUnfSF        0.004528\n",
       "CentralAir       0.004504\n",
       "FullBath         0.003853\n",
       "BsmtFinType1     0.003631\n",
       "KitchenQual      0.003603\n",
       "Neighborhood     0.003564\n",
       "dtype: float64"
      ]
     },
     "execution_count": 74,
     "metadata": {},
     "output_type": "execute_result"
    }
   ],
   "source": [
    "feat_imp = pd.Series(best_rf.feature_importances_, index = Xtrain.columns)\n",
    "feat_imp.sort_values(ascending=False).head(20)"
   ]
  }
 ],
 "metadata": {
  "kernelspec": {
   "display_name": "Python 3",
   "language": "python",
   "name": "python3"
  },
  "language_info": {
   "codemirror_mode": {
    "name": "ipython",
    "version": 3
   },
   "file_extension": ".py",
   "mimetype": "text/x-python",
   "name": "python",
   "nbconvert_exporter": "python",
   "pygments_lexer": "ipython3",
   "version": "3.8.5"
  }
 },
 "nbformat": 4,
 "nbformat_minor": 4
}
