{
 "cells": [
  {
   "cell_type": "code",
   "execution_count": 46,
   "metadata": {},
   "outputs": [],
   "source": [
    "from geopy.distance import geodesic \n",
    "ISU = (42.02621, -93.64864) #bearshear hall"
   ]
  },
  {
   "cell_type": "code",
   "execution_count": 2,
   "metadata": {},
   "outputs": [],
   "source": [
    "import pandas as pd\n",
    "import numpy as np"
   ]
  },
  {
   "cell_type": "code",
   "execution_count": 7,
   "metadata": {},
   "outputs": [],
   "source": [
    "coords = pd.read_csv('housing_coords.csv',index_col=1)"
   ]
  },
  {
   "cell_type": "code",
   "execution_count": 24,
   "metadata": {},
   "outputs": [],
   "source": [
    "coords['coords'] = list(zip(coords.latitude, coords.longitude))"
   ]
  },
  {
   "cell_type": "code",
   "execution_count": 47,
   "metadata": {},
   "outputs": [],
   "source": [
    "def get_dist(x):\n",
    "    try:\n",
    "        return geodesic(x,ISU).km\n",
    "    except:\n",
    "        return None"
   ]
  },
  {
   "cell_type": "code",
   "execution_count": 48,
   "metadata": {},
   "outputs": [],
   "source": [
    "coords['univ_dist'] = coords.coords.map(lambda x: get_dist(x))"
   ]
  },
  {
   "cell_type": "code",
   "execution_count": 54,
   "metadata": {},
   "outputs": [],
   "source": [
    "ISU_dist = coords[['univ_dist']]"
   ]
  },
  {
   "cell_type": "code",
   "execution_count": 55,
   "metadata": {},
   "outputs": [
    {
     "data": {
      "text/html": [
       "<div>\n",
       "<style scoped>\n",
       "    .dataframe tbody tr th:only-of-type {\n",
       "        vertical-align: middle;\n",
       "    }\n",
       "\n",
       "    .dataframe tbody tr th {\n",
       "        vertical-align: top;\n",
       "    }\n",
       "\n",
       "    .dataframe thead th {\n",
       "        text-align: right;\n",
       "    }\n",
       "</style>\n",
       "<table border=\"1\" class=\"dataframe\">\n",
       "  <thead>\n",
       "    <tr style=\"text-align: right;\">\n",
       "      <th></th>\n",
       "      <th>univ_dist</th>\n",
       "    </tr>\n",
       "    <tr>\n",
       "      <th>PID</th>\n",
       "      <th></th>\n",
       "    </tr>\n",
       "  </thead>\n",
       "  <tbody>\n",
       "    <tr>\n",
       "      <th>909176150</th>\n",
       "      <td>0.884335</td>\n",
       "    </tr>\n",
       "    <tr>\n",
       "      <th>905476230</th>\n",
       "      <td>1.253892</td>\n",
       "    </tr>\n",
       "    <tr>\n",
       "      <th>911128020</th>\n",
       "      <td>2.909693</td>\n",
       "    </tr>\n",
       "    <tr>\n",
       "      <th>535377150</th>\n",
       "      <td>3.262635</td>\n",
       "    </tr>\n",
       "    <tr>\n",
       "      <th>534177230</th>\n",
       "      <td>2.468133</td>\n",
       "    </tr>\n",
       "    <tr>\n",
       "      <th>...</th>\n",
       "      <td>...</td>\n",
       "    </tr>\n",
       "    <tr>\n",
       "      <th>903205040</th>\n",
       "      <td>1.956690</td>\n",
       "    </tr>\n",
       "    <tr>\n",
       "      <th>905402060</th>\n",
       "      <td>1.458157</td>\n",
       "    </tr>\n",
       "    <tr>\n",
       "      <th>909275030</th>\n",
       "      <td>0.784081</td>\n",
       "    </tr>\n",
       "    <tr>\n",
       "      <th>907192040</th>\n",
       "      <td>3.561467</td>\n",
       "    </tr>\n",
       "    <tr>\n",
       "      <th>906223180</th>\n",
       "      <td>2.845068</td>\n",
       "    </tr>\n",
       "  </tbody>\n",
       "</table>\n",
       "<p>2579 rows × 1 columns</p>\n",
       "</div>"
      ],
      "text/plain": [
       "           univ_dist\n",
       "PID                 \n",
       "909176150   0.884335\n",
       "905476230   1.253892\n",
       "911128020   2.909693\n",
       "535377150   3.262635\n",
       "534177230   2.468133\n",
       "...              ...\n",
       "903205040   1.956690\n",
       "905402060   1.458157\n",
       "909275030   0.784081\n",
       "907192040   3.561467\n",
       "906223180   2.845068\n",
       "\n",
       "[2579 rows x 1 columns]"
      ]
     },
     "execution_count": 55,
     "metadata": {},
     "output_type": "execute_result"
    }
   ],
   "source": [
    "ISU_dist"
   ]
  },
  {
   "cell_type": "code",
   "execution_count": 51,
   "metadata": {},
   "outputs": [],
   "source": [
    "coords.to_csv('coords2.csv')"
   ]
  }
 ],
 "metadata": {
  "kernelspec": {
   "display_name": "Python 3",
   "language": "python",
   "name": "python3"
  },
  "language_info": {
   "codemirror_mode": {
    "name": "ipython",
    "version": 3
   },
   "file_extension": ".py",
   "mimetype": "text/x-python",
   "name": "python",
   "nbconvert_exporter": "python",
   "pygments_lexer": "ipython3",
   "version": "3.8.5"
  }
 },
 "nbformat": 4,
 "nbformat_minor": 4
}
